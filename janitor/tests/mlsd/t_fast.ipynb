{
 "cells": [
  {
   "cell_type": "markdown",
   "metadata": {},
   "source": [
    "# imports"
   ]
  },
  {
   "cell_type": "code",
   "execution_count": 2,
   "metadata": {
    "ExecuteTime": {
     "end_time": "2019-05-29T18:45:03.831620Z",
     "start_time": "2019-05-29T18:45:02.624209Z"
    }
   },
   "outputs": [],
   "source": [
    "from abc import ABC\n",
    "# todo: insert dask datatypes all over\n",
    "import logging\n",
    "import pydot_ng as pydot\n",
    "from IPython.display import Image, display\n",
    "import sys, os\n",
    "import yaml\n",
    "from attrdict import AttrDict\n",
    "import numpy as np\n",
    "from numba import jit\n",
    "from sklearn.externals import joblib\n",
    "from matplotlib import pyplot as plt\n",
    "import seaborn as sns\n",
    "import copy\n",
    "from tqdm import tqdm\n",
    "import pandas as pd\n",
    "from pandas.core.dtypes.generic import ABCDataFrame, ABCIndexClass, ABCSeries\n",
    "from pandas.util._validators import validate_bool_kwarg\n",
    "from pandas.core.dtypes.common import (is_bool,\n",
    "    is_categorical_dtype, is_datetime64_dtype, is_datetimelike, is_dict_like,\n",
    "    is_extension_array_dtype, is_extension_type, is_hashable, is_integer,\n",
    "    is_iterator, is_list_like, is_scalar, is_string_like, is_timedelta64_dtype)\n",
    "\n",
    "import multiprocessing as mp\n",
    "#import ray\n",
    "#ray.shutdown()\n",
    "#ray.init()\n",
    "#ray.init(num_cpus=int(mp.cpu_count()),\n",
    "#        object_store_memory = int(30e09)) # theads on this machine\n",
    "#                               ,  ,  , \n",
    "\n",
    "import timeit,random,math\n",
    "#\n",
    "import warnings\n",
    "warnings.filterwarnings(\"ignore\")\n"
   ]
  },
  {
   "cell_type": "code",
   "execution_count": 2,
   "metadata": {
    "ExecuteTime": {
     "end_time": "2019-04-21T22:17:52.096516Z",
     "start_time": "2019-04-21T22:17:52.074526Z"
    }
   },
   "outputs": [
    {
     "data": {
      "text/plain": [
       "['/Users/brucecottman/Documents/PROJECTS/paso/tests/pre',\n",
       " '/Users/brucecottman/anaconda3/envs/paso/lib/python37.zip',\n",
       " '/Users/brucecottman/anaconda3/envs/paso/lib/python3.7',\n",
       " '/Users/brucecottman/anaconda3/envs/paso/lib/python3.7/lib-dynload',\n",
       " '',\n",
       " '/Users/brucecottman/.local/lib/python3.7/site-packages',\n",
       " '/Users/brucecottman/anaconda3/envs/paso/lib/python3.7/site-packages',\n",
       " '/Users/brucecottman/anaconda3/envs/paso/lib/python3.7/site-packages/aeosa',\n",
       " '/Users/brucecottman/anaconda3/envs/paso/lib/python3.7/site-packages/IPython/extensions',\n",
       " '/Users/brucecottman/.ipython',\n",
       " '/Users/brucecottman/Documents/PROJECTS/paso']"
      ]
     },
     "execution_count": 2,
     "metadata": {},
     "output_type": "execute_result"
    }
   ],
   "source": [
    "__file__ = !cd ../../;pwd\n",
    "__file__ = __file__[0]\n",
    "__file__\n",
    "sys.path.append(__file__)\n",
    "sys.path"
   ]
  },
  {
   "cell_type": "code",
   "execution_count": 8,
   "metadata": {
    "ExecuteTime": {
     "end_time": "2019-04-21T22:21:20.940959Z",
     "start_time": "2019-04-21T22:21:20.936276Z"
    }
   },
   "outputs": [],
   "source": [
    "from sklearn.datasets import load_boston\n",
    "import paso\n",
    "from paso.base import pasoFunction, _Check_No_NA_Values,pasoError \n",
    "from paso.base import get_paso_log, toDataFrame,is_DataFrame\n",
    "from paso.base import dask_pandas_ratio,_time_required\n",
    "#from paso.base import dask_pandas_startup_ratio\n",
    "from paso.base import pasoDecorators,pasoModel\n",
    "from paso.pre.toCategory import toCategory"
   ]
  },
  {
   "cell_type": "markdown",
   "metadata": {},
   "source": [
    "## Logging"
   ]
  },
  {
   "cell_type": "code",
   "execution_count": 51,
   "metadata": {
    "ExecuteTime": {
     "end_time": "2019-05-29T19:57:19.464841Z",
     "start_time": "2019-05-29T19:57:19.460374Z"
    }
   },
   "outputs": [
    {
     "name": "stdout",
     "output_type": "stream",
     "text": [
      "pafredso.2019-05-29.15:57:19.it lives!!\n"
     ]
    }
   ],
   "source": [
    "the_paso_log.log = paso_logger()._start_paso_log('pafredso')\n",
    "Log = the_paso_log.log\n",
    "Log.info(\"it lives!!\")"
   ]
  },
  {
   "cell_type": "code",
   "execution_count": 49,
   "metadata": {
    "ExecuteTime": {
     "end_time": "2019-05-29T19:55:02.904479Z",
     "start_time": "2019-05-29T19:55:02.898230Z"
    }
   },
   "outputs": [
    {
     "name": "stdout",
     "output_type": "stream",
     "text": [
      "bbcv.2019-05-29.15:55:02.it lives again?\n",
      "bbcv.2019-05-29.15:55:02.it lives again?\n",
      "bbcv.2019-05-29.15:55:02.it lives again?\n"
     ]
    }
   ],
   "source": [
    "the_paso_log.log = paso_logger()._start_paso_log('bbcv')\n",
    "Log = the_paso_log.log\n",
    "Log.info(\"it lives again?\")"
   ]
  },
  {
   "cell_type": "markdown",
   "metadata": {
    "heading_collapsed": true
   },
   "source": [
    "## test df and nunmpy"
   ]
  },
  {
   "cell_type": "code",
   "execution_count": 25,
   "metadata": {
    "ExecuteTime": {
     "end_time": "2019-04-20T20:56:33.981394Z",
     "start_time": "2019-04-20T20:56:33.951687Z"
    },
    "hidden": true
   },
   "outputs": [
    {
     "data": {
      "text/html": [
       "<div>\n",
       "<style scoped>\n",
       "    .dataframe tbody tr th:only-of-type {\n",
       "        vertical-align: middle;\n",
       "    }\n",
       "\n",
       "    .dataframe tbody tr th {\n",
       "        vertical-align: top;\n",
       "    }\n",
       "\n",
       "    .dataframe thead th {\n",
       "        text-align: right;\n",
       "    }\n",
       "</style>\n",
       "<table border=\"1\" class=\"dataframe\">\n",
       "  <thead>\n",
       "    <tr style=\"text-align: right;\">\n",
       "      <th></th>\n",
       "      <th>CRIM</th>\n",
       "      <th>ZN</th>\n",
       "      <th>INDUS</th>\n",
       "      <th>CHAS</th>\n",
       "      <th>NOX</th>\n",
       "      <th>RM</th>\n",
       "      <th>AGE</th>\n",
       "      <th>DIS</th>\n",
       "      <th>RAD</th>\n",
       "      <th>TAX</th>\n",
       "      <th>PTRATIO</th>\n",
       "      <th>B</th>\n",
       "      <th>LSTAT</th>\n",
       "    </tr>\n",
       "  </thead>\n",
       "  <tbody>\n",
       "    <tr>\n",
       "      <th>0</th>\n",
       "      <td>0.00632</td>\n",
       "      <td>18.0</td>\n",
       "      <td>2.31</td>\n",
       "      <td>0.0</td>\n",
       "      <td>0.538</td>\n",
       "      <td>6.575</td>\n",
       "      <td>65.2</td>\n",
       "      <td>4.0900</td>\n",
       "      <td>1.0</td>\n",
       "      <td>296.0</td>\n",
       "      <td>15.3</td>\n",
       "      <td>396.90</td>\n",
       "      <td>4.98</td>\n",
       "    </tr>\n",
       "    <tr>\n",
       "      <th>1</th>\n",
       "      <td>0.02731</td>\n",
       "      <td>0.0</td>\n",
       "      <td>7.07</td>\n",
       "      <td>0.0</td>\n",
       "      <td>0.469</td>\n",
       "      <td>6.421</td>\n",
       "      <td>78.9</td>\n",
       "      <td>4.9671</td>\n",
       "      <td>2.0</td>\n",
       "      <td>242.0</td>\n",
       "      <td>17.8</td>\n",
       "      <td>396.90</td>\n",
       "      <td>9.14</td>\n",
       "    </tr>\n",
       "    <tr>\n",
       "      <th>2</th>\n",
       "      <td>0.02729</td>\n",
       "      <td>0.0</td>\n",
       "      <td>7.07</td>\n",
       "      <td>0.0</td>\n",
       "      <td>0.469</td>\n",
       "      <td>7.185</td>\n",
       "      <td>61.1</td>\n",
       "      <td>4.9671</td>\n",
       "      <td>2.0</td>\n",
       "      <td>242.0</td>\n",
       "      <td>17.8</td>\n",
       "      <td>392.83</td>\n",
       "      <td>4.03</td>\n",
       "    </tr>\n",
       "    <tr>\n",
       "      <th>3</th>\n",
       "      <td>0.03237</td>\n",
       "      <td>0.0</td>\n",
       "      <td>2.18</td>\n",
       "      <td>0.0</td>\n",
       "      <td>0.458</td>\n",
       "      <td>6.998</td>\n",
       "      <td>45.8</td>\n",
       "      <td>6.0622</td>\n",
       "      <td>3.0</td>\n",
       "      <td>222.0</td>\n",
       "      <td>18.7</td>\n",
       "      <td>394.63</td>\n",
       "      <td>2.94</td>\n",
       "    </tr>\n",
       "    <tr>\n",
       "      <th>4</th>\n",
       "      <td>0.06905</td>\n",
       "      <td>0.0</td>\n",
       "      <td>2.18</td>\n",
       "      <td>0.0</td>\n",
       "      <td>0.458</td>\n",
       "      <td>7.147</td>\n",
       "      <td>54.2</td>\n",
       "      <td>6.0622</td>\n",
       "      <td>3.0</td>\n",
       "      <td>222.0</td>\n",
       "      <td>18.7</td>\n",
       "      <td>396.90</td>\n",
       "      <td>5.33</td>\n",
       "    </tr>\n",
       "  </tbody>\n",
       "</table>\n",
       "</div>"
      ],
      "text/plain": [
       "      CRIM    ZN  INDUS  CHAS    NOX     RM   AGE     DIS  RAD    TAX  \\\n",
       "0  0.00632  18.0   2.31   0.0  0.538  6.575  65.2  4.0900  1.0  296.0   \n",
       "1  0.02731   0.0   7.07   0.0  0.469  6.421  78.9  4.9671  2.0  242.0   \n",
       "2  0.02729   0.0   7.07   0.0  0.469  7.185  61.1  4.9671  2.0  242.0   \n",
       "3  0.03237   0.0   2.18   0.0  0.458  6.998  45.8  6.0622  3.0  222.0   \n",
       "4  0.06905   0.0   2.18   0.0  0.458  7.147  54.2  6.0622  3.0  222.0   \n",
       "\n",
       "   PTRATIO       B  LSTAT  \n",
       "0     15.3  396.90   4.98  \n",
       "1     17.8  396.90   9.14  \n",
       "2     17.8  392.83   4.03  \n",
       "3     18.7  394.63   2.94  \n",
       "4     18.7  396.90   5.33  "
      ]
     },
     "execution_count": 25,
     "metadata": {},
     "output_type": "execute_result"
    }
   ],
   "source": [
    "from sklearn.datasets import load_boston\n",
    "boston = load_boston()\n",
    "City = pd.DataFrame(boston.data, columns=boston.feature_names)\n",
    "City.head()"
   ]
  },
  {
   "cell_type": "code",
   "execution_count": 22,
   "metadata": {
    "ExecuteTime": {
     "end_time": "2019-04-20T20:55:54.104846Z",
     "start_time": "2019-04-20T20:55:54.101618Z"
    },
    "hidden": true
   },
   "outputs": [],
   "source": [
    "a = City.values\n",
    "a[0,0]= .18"
   ]
  },
  {
   "cell_type": "code",
   "execution_count": 26,
   "metadata": {
    "ExecuteTime": {
     "end_time": "2019-04-20T20:56:41.155412Z",
     "start_time": "2019-04-20T20:56:41.151285Z"
    },
    "hidden": true
   },
   "outputs": [],
   "source": [
    "City = pd.DataFrame(data=a, copy=False)"
   ]
  },
  {
   "cell_type": "code",
   "execution_count": 27,
   "metadata": {
    "ExecuteTime": {
     "end_time": "2019-04-20T20:56:44.458843Z",
     "start_time": "2019-04-20T20:56:44.439508Z"
    },
    "hidden": true
   },
   "outputs": [
    {
     "data": {
      "text/html": [
       "<div>\n",
       "<style scoped>\n",
       "    .dataframe tbody tr th:only-of-type {\n",
       "        vertical-align: middle;\n",
       "    }\n",
       "\n",
       "    .dataframe tbody tr th {\n",
       "        vertical-align: top;\n",
       "    }\n",
       "\n",
       "    .dataframe thead th {\n",
       "        text-align: right;\n",
       "    }\n",
       "</style>\n",
       "<table border=\"1\" class=\"dataframe\">\n",
       "  <thead>\n",
       "    <tr style=\"text-align: right;\">\n",
       "      <th></th>\n",
       "      <th>0</th>\n",
       "      <th>1</th>\n",
       "      <th>2</th>\n",
       "      <th>3</th>\n",
       "      <th>4</th>\n",
       "      <th>5</th>\n",
       "      <th>6</th>\n",
       "      <th>7</th>\n",
       "      <th>8</th>\n",
       "      <th>9</th>\n",
       "      <th>10</th>\n",
       "      <th>11</th>\n",
       "      <th>12</th>\n",
       "    </tr>\n",
       "  </thead>\n",
       "  <tbody>\n",
       "    <tr>\n",
       "      <th>0</th>\n",
       "      <td>0.18000</td>\n",
       "      <td>18.0</td>\n",
       "      <td>2.31</td>\n",
       "      <td>0.0</td>\n",
       "      <td>0.538</td>\n",
       "      <td>6.575</td>\n",
       "      <td>65.2</td>\n",
       "      <td>4.0900</td>\n",
       "      <td>1.0</td>\n",
       "      <td>296.0</td>\n",
       "      <td>15.3</td>\n",
       "      <td>396.90</td>\n",
       "      <td>4.98</td>\n",
       "    </tr>\n",
       "    <tr>\n",
       "      <th>1</th>\n",
       "      <td>0.02731</td>\n",
       "      <td>0.0</td>\n",
       "      <td>7.07</td>\n",
       "      <td>0.0</td>\n",
       "      <td>0.469</td>\n",
       "      <td>6.421</td>\n",
       "      <td>78.9</td>\n",
       "      <td>4.9671</td>\n",
       "      <td>2.0</td>\n",
       "      <td>242.0</td>\n",
       "      <td>17.8</td>\n",
       "      <td>396.90</td>\n",
       "      <td>9.14</td>\n",
       "    </tr>\n",
       "    <tr>\n",
       "      <th>2</th>\n",
       "      <td>0.02729</td>\n",
       "      <td>0.0</td>\n",
       "      <td>7.07</td>\n",
       "      <td>0.0</td>\n",
       "      <td>0.469</td>\n",
       "      <td>7.185</td>\n",
       "      <td>61.1</td>\n",
       "      <td>4.9671</td>\n",
       "      <td>2.0</td>\n",
       "      <td>242.0</td>\n",
       "      <td>17.8</td>\n",
       "      <td>392.83</td>\n",
       "      <td>4.03</td>\n",
       "    </tr>\n",
       "    <tr>\n",
       "      <th>3</th>\n",
       "      <td>0.03237</td>\n",
       "      <td>0.0</td>\n",
       "      <td>2.18</td>\n",
       "      <td>0.0</td>\n",
       "      <td>0.458</td>\n",
       "      <td>6.998</td>\n",
       "      <td>45.8</td>\n",
       "      <td>6.0622</td>\n",
       "      <td>3.0</td>\n",
       "      <td>222.0</td>\n",
       "      <td>18.7</td>\n",
       "      <td>394.63</td>\n",
       "      <td>2.94</td>\n",
       "    </tr>\n",
       "    <tr>\n",
       "      <th>4</th>\n",
       "      <td>0.06905</td>\n",
       "      <td>0.0</td>\n",
       "      <td>2.18</td>\n",
       "      <td>0.0</td>\n",
       "      <td>0.458</td>\n",
       "      <td>7.147</td>\n",
       "      <td>54.2</td>\n",
       "      <td>6.0622</td>\n",
       "      <td>3.0</td>\n",
       "      <td>222.0</td>\n",
       "      <td>18.7</td>\n",
       "      <td>396.90</td>\n",
       "      <td>5.33</td>\n",
       "    </tr>\n",
       "  </tbody>\n",
       "</table>\n",
       "</div>"
      ],
      "text/plain": [
       "        0     1     2    3      4      5     6       7    8      9     10  \\\n",
       "0  0.18000  18.0  2.31  0.0  0.538  6.575  65.2  4.0900  1.0  296.0  15.3   \n",
       "1  0.02731   0.0  7.07  0.0  0.469  6.421  78.9  4.9671  2.0  242.0  17.8   \n",
       "2  0.02729   0.0  7.07  0.0  0.469  7.185  61.1  4.9671  2.0  242.0  17.8   \n",
       "3  0.03237   0.0  2.18  0.0  0.458  6.998  45.8  6.0622  3.0  222.0  18.7   \n",
       "4  0.06905   0.0  2.18  0.0  0.458  7.147  54.2  6.0622  3.0  222.0  18.7   \n",
       "\n",
       "       11    12  \n",
       "0  396.90  4.98  \n",
       "1  396.90  9.14  \n",
       "2  392.83  4.03  \n",
       "3  394.63  2.94  \n",
       "4  396.90  5.33  "
      ]
     },
     "execution_count": 27,
     "metadata": {},
     "output_type": "execute_result"
    }
   ],
   "source": [
    "City.head()"
   ]
  },
  {
   "cell_type": "code",
   "execution_count": 30,
   "metadata": {
    "ExecuteTime": {
     "end_time": "2019-04-20T21:40:12.343281Z",
     "start_time": "2019-04-20T21:40:12.339129Z"
    },
    "hidden": true
   },
   "outputs": [
    {
     "data": {
      "text/plain": [
       "True"
      ]
     },
     "execution_count": 30,
     "metadata": {},
     "output_type": "execute_result"
    }
   ],
   "source": [
    "x = False\n",
    "not x\n"
   ]
  },
  {
   "cell_type": "code",
   "execution_count": 14,
   "metadata": {
    "ExecuteTime": {
     "end_time": "2019-04-21T23:41:56.850918Z",
     "start_time": "2019-04-21T23:41:56.844688Z"
    },
    "hidden": true
   },
   "outputs": [
    {
     "name": "stdout",
     "output_type": "stream",
     "text": [
      "foo {'a': 1, 'b': 2}\n",
      "g 1\n",
      "g {'b': 2}\n"
     ]
    }
   ],
   "source": [
    "def foo(*args,**kwargs):\n",
    "    print('foo',kwargs)\n",
    "    g(**kwargs)\n",
    "    \n",
    "def g(*args,a=3,**kwargs):\n",
    "    print('g',a)\n",
    "    print('g',kwargs)\n",
    "    \n",
    "foo(a=1,b=2)"
   ]
  },
  {
   "cell_type": "code",
   "execution_count": 7,
   "metadata": {
    "ExecuteTime": {
     "end_time": "2019-04-20T20:44:07.916813Z",
     "start_time": "2019-04-20T20:44:07.897863Z"
    },
    "hidden": true
   },
   "outputs": [],
   "source": [
    "def dask_pandas_startup_ratio(magnitude=1):\n",
    "    \"\"\"\n",
    "    dask_cost calulates the ratio of dask dataframe - pandas\n",
    "    dataframe in wall clock time. On a single CPU the ratio is 1.0.\n",
    "    On a multiprocessor (usually 2 threads per CPU) the dask-pandas time\n",
    "    cost ratio grows larger (favorable to Dask)\n",
    "    the more elements per benchmark dataframe.\n",
    "\n",
    "    Parameters:\n",
    "        Nome\n",
    "\n",
    "    Returns:\n",
    "        pandas dataframe\n",
    "\n",
    "    Example:\n",
    "        >>> (On 12-CPU MacPro)\n",
    "        >>> dask_pandas_ratio()\n",
    "    \"\"\"\n",
    "\n",
    "    from sklearn.datasets import load_boston\n",
    "    import dask.dataframe as pdd\n",
    "    boston = load_boston()\n",
    "    City = pd.DataFrame(boston.data, columns=boston.feature_names)\n",
    "\n",
    "    c = []; m = []\n",
    "    for power in tqdm(range(magnitude)):\n",
    "        scale = 10**power\n",
    "        bc = pd.concat([City for i in range(int(1.5 * scale))], axis=0)\n",
    "        print(type(bc),bc.shape, bc.shape[0] * bc.shape[1])\n",
    "        N = mp.cpu_count()  # theads on this machine\n",
    "        bcd = pdd.from_pandas(bc, npartitions=N)\n",
    "\n",
    "        t1 = _time_required(bc.count)\n",
    "        t2 = _time_required(bcd.count)\n",
    "        c.append(('count'\n",
    "                  , round(math.log10(bc.shape[0] * bc.shape[1]), 0)\n",
    "                  , t1, t2, (round(t1 / t2, 2))))\n",
    "\n",
    "        t1 = _time_required(bc.sum)\n",
    "        t2 = _time_required(bcd.sum)\n",
    "        c.append(('sum'\n",
    "                  , round(math.log10(bc.shape[0] * bc.shape[1]), 0)\n",
    "                  , t1, t2, (round(t1 / t2, 2))))\n",
    "\n",
    "        t1 = _time_required(bc.mean)\n",
    "        t2 = _time_required(bcd.mean)\n",
    "        c.append(('mean'\n",
    "                  , round(math.log10(bc.shape[0] * bc.shape[1]), 0)\n",
    "                  , t1, t2, (round(t1 / t2, 2))))\n",
    "\n",
    "        t1 = _time_required(bc.isnull)\n",
    "        t2 = _time_required(bcd.isnull)\n",
    "        c.append(('isnull'\n",
    "                  , round(math.log10(bc.shape[0] * bc.shape[1]), 0)\n",
    "                  , t1, t2, (round(t1 / t2, 2))))\n",
    "\n",
    "    df = pd.DataFrame(c,columns=['f()','log10(N)','t-pd(s)','t-dask(s)','t-pd/t-dask'])\n",
    "    ax = sns.lineplot(x='log10(N)', y='t-pd/t-dask', hue='f()', data=df)\n",
    "    ax.set_yscale('log')\n",
    "    ax.set_xlabel('Number elements(log10)')\n",
    "    ax.set_ylabel('Ratio dask/pandas')\n",
    "    plt.plot([4, 8], [1, 1], c='black', linewidth=3)\n",
    "    return df\n"
   ]
  },
  {
   "cell_type": "markdown",
   "metadata": {
    "heading_collapsed": true
   },
   "source": [
    "# Ray"
   ]
  },
  {
   "cell_type": "code",
   "execution_count": 4,
   "metadata": {
    "ExecuteTime": {
     "end_time": "2019-04-20T00:58:32.962779Z",
     "start_time": "2019-04-20T00:58:32.958589Z"
    },
    "hidden": true
   },
   "outputs": [],
   "source": [
    "def _time_required(func):\n",
    "    timerr = timeit.default_timer\n",
    "    x = timerr()\n",
    "    for i in range(10): func()\n",
    "    y = timerr()\n",
    "    return(y - x)"
   ]
  },
  {
   "cell_type": "code",
   "execution_count": 5,
   "metadata": {
    "ExecuteTime": {
     "end_time": "2019-04-20T00:58:32.986350Z",
     "start_time": "2019-04-20T00:58:32.965630Z"
    },
    "hidden": true
   },
   "outputs": [],
   "source": [
    "def ray_pandas_ratio(magnitude = 4):\n",
    "    \"\"\"\n",
    "    fast_pandas_ratio calulates the ratio of fast dataframe - pandas\n",
    "    dataframe in wall clock time. On a single CPU the ratio is 1.0.\n",
    "    On a multiprocessor (usually 2 threads per CPU) the fast-pandas time\n",
    "    cost ratio grows larger (favorable to Dask)\n",
    "    the more elements per benchmark dataframe.\n",
    "\n",
    "    Parameters:\n",
    "        Nome\n",
    "\n",
    "    Returns:\n",
    "        pandas dataframe\n",
    "\n",
    "    Example:\n",
    "        >>> (On 12-CPU MacPro)\n",
    "        >>> dask_pandas_ratio()\n",
    "    \"\"\"\n",
    "    import modin.pandas as fpd\n",
    "    \n",
    "    boston = load_boston()\n",
    "    City = pd.DataFrame(boston.data, columns=boston.feature_names)\n",
    "    fast_City = fpd.DataFrame(boston.data, columns=boston.feature_names)\n",
    "    c = [];\n",
    "    m = []\n",
    "    for power in tqdm(range(magnitude)):\n",
    "        scale = 10**power\n",
    "        bc = pd.concat([City for i in range(int(1.5 * scale))], axis=0)\n",
    "        fbc =  fpd.concat([fast_City for i in range(int(1.5 * scale))], axis=0)\n",
    "        bc.shape, bc.shape[0] * bc.shape[1]\n",
    "\n",
    "\n",
    "        t1 = _time_required(bc.count)\n",
    "        t2 = _time_required(fbc.count)\n",
    "        c.append(('count'\n",
    "                  , round(math.log10(bc.shape[0] * bc.shape[1]), 0)\n",
    "                  , t1, t2, (round(t1 / t2resolve))))\n",
    "\n",
    "        t1 = _time_required(bc.sum)\n",
    "        t2 = _time_required(fbc.sum)\n",
    "        c.append(('sum'\n",
    "                  , round(math.log10(bc.shape[0] * bc.shape[1]), 0)\n",
    "                  , t1, t2, (round(t1 / t2resolve))))\n",
    "\n",
    "        t1 = _time_required(bc.mean)\n",
    "        t2 = _time_required(fbc.mean)\n",
    "        c.append(('mean'\n",
    "                  , round(math.log10(bc.shape[0] * bc.shape[1]), 0)\n",
    "                  , t1, t2, (round(t1 / t2resolve))))\n",
    "\n",
    "        t1 = _time_required(bc.isnull)\n",
    "        t2 = _time_required(fbc.isnull)\n",
    "        c.append(('isnull'\n",
    "                  , round(math.log10(bc.shape[0] * bc.shape[1]), 0)\n",
    "                  , t1, t2, (round(t1 / t2resolve))))\n",
    "        print('isnull'\n",
    "                  , round(math.log10(bc.shape[0] * bc.shape[1]), 0)\n",
    "                  , t1, t2, (round(t1 / t2resolve)))\n",
    "\n",
    "\n",
    "\n",
    "    df = pd.DataFrame(c,columns=['f()','log10(N)','t-pd(s)','t-dask(s)','t-pd/t-dask'])\n",
    "    ax = sns.lineplot(x='log10(N)', y='t-pd/t-ray', hue='f()', data=df)\n",
    "    ax.set_yscale('log')\n",
    "    ax.set_xlabel('Number elements(log10)')\n",
    "    ax.set_ylabel('Ratio dask/pandas')\n",
    "    plt.plot([4, 8], [1, 1], c='black', linewidth=3)\n",
    "    return df\n"
   ]
  },
  {
   "cell_type": "code",
   "execution_count": 3,
   "metadata": {
    "ExecuteTime": {
     "end_time": "2019-04-20T20:41:03.750512Z",
     "start_time": "2019-04-20T20:41:03.739175Z"
    },
    "hidden": true
   },
   "outputs": [
    {
     "ename": "NameError",
     "evalue": "name 'fast_pandas_ratio' is not defined",
     "traceback": [
      "\u001b[0;31m---------------------------------------------------------------------------\u001b[0m",
      "\u001b[0;31mNameError\u001b[0m                                 Traceback (most recent call last)",
      "\u001b[0;32m<ipython-input-3-445dd6c52806>\u001b[0m in \u001b[0;36m<module>\u001b[0;34m\u001b[0m\n\u001b[0;32m----> 1\u001b[0;31m \u001b[0mfast_pandas_ratio\u001b[0m\u001b[0;34m(\u001b[0m\u001b[0;36m6\u001b[0m\u001b[0;34m)\u001b[0m\u001b[0;34m\u001b[0m\u001b[0;34m\u001b[0m\u001b[0m\n\u001b[0m",
      "\u001b[0;31mNameError\u001b[0m: name 'fast_pandas_ratio' is not defined"
     ],
     "output_type": "error"
    }
   ],
   "source": [
    "fast_pandas_ratio(6)"
   ]
  },
  {
   "cell_type": "markdown",
   "metadata": {
    "heading_collapsed": true
   },
   "source": [
    "# Dask"
   ]
  },
  {
   "cell_type": "code",
   "execution_count": 9,
   "metadata": {
    "ExecuteTime": {
     "end_time": "2019-04-20T20:46:26.815880Z",
     "start_time": "2019-04-20T20:45:39.374255Z"
    },
    "hidden": true
   },
   "outputs": [
    {
     "name": "stderr",
     "output_type": "stream",
     "text": [
      "\r",
      "  0%|          | 0/5 [00:00<?, ?it/s]"
     ]
    },
    {
     "name": "stdout",
     "output_type": "stream",
     "text": [
      "<class 'pandas.core.frame.DataFrame'> (506, 13) 6578\n"
     ]
    },
    {
     "name": "stderr",
     "output_type": "stream",
     "text": [
      "\r",
      " 20%|██        | 1/5 [00:00<00:01,  3.05it/s]"
     ]
    },
    {
     "name": "stdout",
     "output_type": "stream",
     "text": [
      "<class 'pandas.core.frame.DataFrame'> (7590, 13) 98670\n"
     ]
    },
    {
     "name": "stderr",
     "output_type": "stream",
     "text": [
      "\r",
      " 40%|████      | 2/5 [00:00<00:01,  2.99it/s]"
     ]
    },
    {
     "name": "stdout",
     "output_type": "stream",
     "text": [
      "<class 'pandas.core.frame.DataFrame'> (75900, 13) 986700\n"
     ]
    },
    {
     "name": "stderr",
     "output_type": "stream",
     "text": [
      "\r",
      " 60%|██████    | 3/5 [00:01<00:00,  2.40it/s]"
     ]
    },
    {
     "name": "stdout",
     "output_type": "stream",
     "text": [
      "<class 'pandas.core.frame.DataFrame'> (759000, 13) 9867000\n"
     ]
    },
    {
     "name": "stderr",
     "output_type": "stream",
     "text": [
      "\r",
      " 80%|████████  | 4/5 [00:05<00:01,  1.49s/it]"
     ]
    },
    {
     "name": "stdout",
     "output_type": "stream",
     "text": [
      "<class 'pandas.core.frame.DataFrame'> (7590000, 13) 98670000\n"
     ]
    },
    {
     "name": "stderr",
     "output_type": "stream",
     "text": [
      "100%|██████████| 5/5 [00:46<00:00, 13.44s/it]\n"
     ]
    },
    {
     "data": {
      "text/html": [
       "<div>\n",
       "<style scoped>\n",
       "    .dataframe tbody tr th:only-of-type {\n",
       "        vertical-align: middle;\n",
       "    }\n",
       "\n",
       "    .dataframe tbody tr th {\n",
       "        vertical-align: top;\n",
       "    }\n",
       "\n",
       "    .dataframe thead th {\n",
       "        text-align: right;\n",
       "    }\n",
       "</style>\n",
       "<table border=\"1\" class=\"dataframe\">\n",
       "  <thead>\n",
       "    <tr style=\"text-align: right;\">\n",
       "      <th></th>\n",
       "      <th>f()</th>\n",
       "      <th>log10(N)</th>\n",
       "      <th>t-pd(s)</th>\n",
       "      <th>t-dask(s)</th>\n",
       "      <th>t-pd/t-dask</th>\n",
       "    </tr>\n",
       "  </thead>\n",
       "  <tbody>\n",
       "    <tr>\n",
       "      <th>0</th>\n",
       "      <td>count</td>\n",
       "      <td>4.0</td>\n",
       "      <td>0.011160</td>\n",
       "      <td>0.052544</td>\n",
       "      <td>0.21</td>\n",
       "    </tr>\n",
       "    <tr>\n",
       "      <th>1</th>\n",
       "      <td>sum</td>\n",
       "      <td>4.0</td>\n",
       "      <td>0.003082</td>\n",
       "      <td>0.048224</td>\n",
       "      <td>0.06</td>\n",
       "    </tr>\n",
       "    <tr>\n",
       "      <th>2</th>\n",
       "      <td>mean</td>\n",
       "      <td>4.0</td>\n",
       "      <td>0.001456</td>\n",
       "      <td>0.155791</td>\n",
       "      <td>0.01</td>\n",
       "    </tr>\n",
       "    <tr>\n",
       "      <th>3</th>\n",
       "      <td>isnull</td>\n",
       "      <td>4.0</td>\n",
       "      <td>0.001803</td>\n",
       "      <td>0.049145</td>\n",
       "      <td>0.04</td>\n",
       "    </tr>\n",
       "    <tr>\n",
       "      <th>4</th>\n",
       "      <td>count</td>\n",
       "      <td>5.0</td>\n",
       "      <td>0.025198</td>\n",
       "      <td>0.052004</td>\n",
       "      <td>0.48</td>\n",
       "    </tr>\n",
       "    <tr>\n",
       "      <th>5</th>\n",
       "      <td>sum</td>\n",
       "      <td>5.0</td>\n",
       "      <td>0.008241</td>\n",
       "      <td>0.044892</td>\n",
       "      <td>0.18</td>\n",
       "    </tr>\n",
       "    <tr>\n",
       "      <th>6</th>\n",
       "      <td>mean</td>\n",
       "      <td>5.0</td>\n",
       "      <td>0.004197</td>\n",
       "      <td>0.152425</td>\n",
       "      <td>0.03</td>\n",
       "    </tr>\n",
       "    <tr>\n",
       "      <th>7</th>\n",
       "      <td>isnull</td>\n",
       "      <td>5.0</td>\n",
       "      <td>0.002551</td>\n",
       "      <td>0.048008</td>\n",
       "      <td>0.05</td>\n",
       "    </tr>\n",
       "    <tr>\n",
       "      <th>8</th>\n",
       "      <td>count</td>\n",
       "      <td>6.0</td>\n",
       "      <td>0.163203</td>\n",
       "      <td>0.054888</td>\n",
       "      <td>2.97</td>\n",
       "    </tr>\n",
       "    <tr>\n",
       "      <th>9</th>\n",
       "      <td>sum</td>\n",
       "      <td>6.0</td>\n",
       "      <td>0.069503</td>\n",
       "      <td>0.044046</td>\n",
       "      <td>1.58</td>\n",
       "    </tr>\n",
       "    <tr>\n",
       "      <th>10</th>\n",
       "      <td>mean</td>\n",
       "      <td>6.0</td>\n",
       "      <td>0.032038</td>\n",
       "      <td>0.144266</td>\n",
       "      <td>0.22</td>\n",
       "    </tr>\n",
       "    <tr>\n",
       "      <th>11</th>\n",
       "      <td>isnull</td>\n",
       "      <td>6.0</td>\n",
       "      <td>0.006254</td>\n",
       "      <td>0.049665</td>\n",
       "      <td>0.13</td>\n",
       "    </tr>\n",
       "    <tr>\n",
       "      <th>12</th>\n",
       "      <td>count</td>\n",
       "      <td>7.0</td>\n",
       "      <td>1.534276</td>\n",
       "      <td>0.051957</td>\n",
       "      <td>29.53</td>\n",
       "    </tr>\n",
       "    <tr>\n",
       "      <th>13</th>\n",
       "      <td>sum</td>\n",
       "      <td>7.0</td>\n",
       "      <td>0.785164</td>\n",
       "      <td>0.044602</td>\n",
       "      <td>17.60</td>\n",
       "    </tr>\n",
       "    <tr>\n",
       "      <th>14</th>\n",
       "      <td>mean</td>\n",
       "      <td>7.0</td>\n",
       "      <td>0.802806</td>\n",
       "      <td>0.141782</td>\n",
       "      <td>5.66</td>\n",
       "    </tr>\n",
       "    <tr>\n",
       "      <th>15</th>\n",
       "      <td>isnull</td>\n",
       "      <td>7.0</td>\n",
       "      <td>0.085001</td>\n",
       "      <td>0.046359</td>\n",
       "      <td>1.83</td>\n",
       "    </tr>\n",
       "    <tr>\n",
       "      <th>16</th>\n",
       "      <td>count</td>\n",
       "      <td>8.0</td>\n",
       "      <td>15.582891</td>\n",
       "      <td>0.051675</td>\n",
       "      <td>301.56</td>\n",
       "    </tr>\n",
       "    <tr>\n",
       "      <th>17</th>\n",
       "      <td>sum</td>\n",
       "      <td>8.0</td>\n",
       "      <td>11.194997</td>\n",
       "      <td>0.046762</td>\n",
       "      <td>239.41</td>\n",
       "    </tr>\n",
       "    <tr>\n",
       "      <th>18</th>\n",
       "      <td>mean</td>\n",
       "      <td>8.0</td>\n",
       "      <td>8.040170</td>\n",
       "      <td>0.144788</td>\n",
       "      <td>55.53</td>\n",
       "    </tr>\n",
       "    <tr>\n",
       "      <th>19</th>\n",
       "      <td>isnull</td>\n",
       "      <td>8.0</td>\n",
       "      <td>0.822236</td>\n",
       "      <td>0.049297</td>\n",
       "      <td>16.68</td>\n",
       "    </tr>\n",
       "  </tbody>\n",
       "</table>\n",
       "</div>"
      ],
      "text/plain": [
       "       f()  log10(N)    t-pd(s)  t-dask(s)  t-pd/t-dask\n",
       "0    count       4.0   0.011160   0.052544         0.21\n",
       "1      sum       4.0   0.003082   0.048224         0.06\n",
       "2     mean       4.0   0.001456   0.155791         0.01\n",
       "3   isnull       4.0   0.001803   0.049145         0.04\n",
       "4    count       5.0   0.025198   0.052004         0.48\n",
       "5      sum       5.0   0.008241   0.044892         0.18\n",
       "6     mean       5.0   0.004197   0.152425         0.03\n",
       "7   isnull       5.0   0.002551   0.048008         0.05\n",
       "8    count       6.0   0.163203   0.054888         2.97\n",
       "9      sum       6.0   0.069503   0.044046         1.58\n",
       "10    mean       6.0   0.032038   0.144266         0.22\n",
       "11  isnull       6.0   0.006254   0.049665         0.13\n",
       "12   count       7.0   1.534276   0.051957        29.53\n",
       "13     sum       7.0   0.785164   0.044602        17.60\n",
       "14    mean       7.0   0.802806   0.141782         5.66\n",
       "15  isnull       7.0   0.085001   0.046359         1.83\n",
       "16   count       8.0  15.582891   0.051675       301.56\n",
       "17     sum       8.0  11.194997   0.046762       239.41\n",
       "18    mean       8.0   8.040170   0.144788        55.53\n",
       "19  isnull       8.0   0.822236   0.049297        16.68"
      ]
     },
     "execution_count": 9,
     "metadata": {},
     "output_type": "execute_result"
    },
    {
     "data": {
      "image/png": "[encoded data removed]",
      "text/plain": [
       "<Figure size 432x288 with 1 Axes>"
      ]
     },
     "metadata": {
      "needs_background": "light"
     },
     "output_type": "display_data"
    }
   ],
   "source": [
    "dask_pandas_startup_ratio(magnitude=5)"
   ]
  },
  {
   "cell_type": "code",
   "execution_count": null,
   "metadata": {
    "ExecuteTime": {
     "end_time": "2019-04-20T00:58:33.410525Z",
     "start_time": "2019-04-20T00:58:30.461Z"
    },
    "hidden": true
   },
   "outputs": [],
   "source": [
    "dask_pandas_ratio(6)"
   ]
  },
  {
   "cell_type": "markdown",
   "metadata": {
    "hidden": true
   },
   "source": [
    "- count is highly paralleliable and approaches thread count by machine as startup cost becomes very small relative to total compute cost;\n",
    "- mean is very low end of thread using the pandas implementation'\n",
    "- isnull is so fast that the benefit from multiple threads even at 1e09 elements juust about balances cost of starting thread"
   ]
  }
 ],
 "metadata": {
  "hide_input": false,
  "kernelspec": {
   "display_name": "Python 3",
   "language": "python",
   "name": "python3"
  },
  "language_info": {
   "codemirror_mode": {
    "name": "ipython",
    "version": 3
   },
   "file_extension": ".py",
   "mimetype": "text/x-python",
   "name": "python",
   "nbconvert_exporter": "python",
   "pygments_lexer": "ipython3",
   "version": "3.7.1"
  },
  "toc": {
   "base_numbering": 1.0,
   "nav_menu": {},
   "number_sections": true,
   "sideBar": true,
   "skip_h1_title": false,
   "title_cell": "Table of Contents",
   "title_sidebar": "Contents",
   "toc_cell": false,
   "toc_position": {},
   "toc_section_display": true,
   "toc_window_display": false
  }
 },
 "nbformat": 4,
 "nbformat_minor": 2
}
