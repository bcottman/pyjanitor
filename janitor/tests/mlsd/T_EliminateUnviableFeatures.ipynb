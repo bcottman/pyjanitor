{
 "cells": [
  {
   "cell_type": "markdown",
   "metadata": {},
   "source": [
    "# EliminateUnviableFeatures Tests"
   ]
  },
  {
   "cell_type": "markdown",
   "metadata": {},
   "source": [
    "## imports"
   ]
  },
  {
   "cell_type": "code",
   "execution_count": 1,
   "metadata": {
    "ExecuteTime": {
     "end_time": "2018-12-09T00:07:54.534530Z",
     "start_time": "2018-12-09T00:07:53.943226Z"
    }
   },
   "outputs": [
    {
     "name": "stdout",
     "output_type": "stream",
     "text": [
      "3.6.5 |Anaconda, Inc.| (default, Apr 26 2018, 08:42:37) \n",
      "[GCC 4.2.1 Compatible Clang 4.0.1 (tags/RELEASE_401/final)]\n"
     ]
    }
   ],
   "source": [
    "import pandas as pd\n",
    "import copy, random, os, sys\n",
    "import numpy as np\n",
    "import numba as jit\n",
    "from pandas_summary import DataFrameSummary\n",
    "# steppy imports\n",
    "from steppy.base import Step, BaseTransformer, make_transformer\n",
    "from steppy.adapter import Adapter, E\n",
    "from steppy.utils import get_logger\n",
    "__author__ = 'Bruce_H_Cottman'\n",
    "__license__ = 'MIT License'\n",
    "#\n",
    "from toolkit.preprocessing.EliminateUnviableFeatures import EliminateUnviableFeatures\n",
    "\n",
    "print (sys.version)\n",
    "%reload_ext autoreload\n",
    "%autoreload 2"
   ]
  },
  {
   "cell_type": "markdown",
   "metadata": {},
   "source": [
    "## logging"
   ]
  },
  {
   "cell_type": "code",
   "execution_count": 2,
   "metadata": {
    "ExecuteTime": {
     "end_time": "2018-12-09T00:07:54.571313Z",
     "start_time": "2018-12-09T00:07:54.537016Z"
    }
   },
   "outputs": [],
   "source": [
    "logger = get_logger()\n",
    "logger.setLevel('DEBUG'.upper())\n",
    "logger.getEffectiveLevel()\n",
    "LOGGER = logger"
   ]
  },
  {
   "cell_type": "markdown",
   "metadata": {
    "heading_collapsed": true
   },
   "source": [
    "## system info"
   ]
  },
  {
   "cell_type": "code",
   "execution_count": 3,
   "metadata": {
    "ExecuteTime": {
     "end_time": "2018-12-09T00:07:54.615764Z",
     "start_time": "2018-12-09T00:07:54.574004Z"
    },
    "hidden": true
   },
   "outputs": [
    {
     "data": {
      "text/plain": [
       "['',\n",
       " '/Users/brucecottman/anaconda3/envs/steppy/lib/python36.zip',\n",
       " '/Users/brucecottman/anaconda3/envs/steppy/lib/python3.6',\n",
       " '/Users/brucecottman/anaconda3/envs/steppy/lib/python3.6/lib-dynload',\n",
       " '/Users/brucecottman/.local/lib/python3.6/site-packages',\n",
       " '/Users/brucecottman/anaconda3/envs/steppy/lib/python3.6/site-packages',\n",
       " '/Users/brucecottman/anaconda3/envs/steppy/lib/python3.6/site-packages/aeosa',\n",
       " '/Users/brucecottman/anaconda3/envs/steppy/lib/python3.6/site-packages/pip-18.0-py3.6.egg',\n",
       " '/Users/brucecottman/Documents/PROJECTS/steppy-toolkit',\n",
       " '/Users/brucecottman/Documents/PROJECTS/steppy-toolkit/src/bayes-opt',\n",
       " '/Users/brucecottman/anaconda3/envs/steppy/lib/python3.6/site-packages/torchvision-0.2.1-py3.6.egg',\n",
       " '/Users/brucecottman/anaconda3/envs/steppy/lib/python3.6/site-packages/IPython/extensions',\n",
       " '/Users/brucecottman/.ipython']"
      ]
     },
     "execution_count": 3,
     "metadata": {},
     "output_type": "execute_result"
    }
   ],
   "source": [
    "sys.path"
   ]
  },
  {
   "cell_type": "code",
   "execution_count": 4,
   "metadata": {
    "ExecuteTime": {
     "end_time": "2018-12-09T00:07:56.763695Z",
     "start_time": "2018-12-09T00:07:54.618402Z"
    },
    "hidden": true
   },
   "outputs": [
    {
     "name": "stdout",
     "output_type": "stream",
     "text": [
      "# packages in environment at /Users/brucecottman/anaconda3/envs/steppy:\r\n",
      "#\r\n",
      "# Name                    Version                   Build  Channel\r\n",
      "_ipyw_jlab_nb_ext_conf    0.1.0            py36h2fc01ae_0  \r\n",
      "absl-py                   0.4.1                     <pip>\r\n",
      "alabaster                 0.7.10           py36h174008c_0  \r\n",
      "anaconda                  5.2.0                    py36_3  \r\n",
      "anaconda-client           1.6.14                   py36_0  \r\n",
      "anaconda-navigator        1.8.7                    py36_0  \r\n",
      "anaconda-project          0.8.2            py36h9ee5d53_0  \r\n",
      "appnope                   0.1.0            py36hf537a9a_0  \r\n",
      "appscript                 1.0.1            py36h9e71e49_1  \r\n",
      "argcomplete               1.9.4                     <pip>\r\n",
      "asn1crypto                0.24.0                   py36_0  \r\n",
      "astor                     0.7.1                     <pip>\r\n",
      "astroid                   1.6.3                    py36_0  \r\n",
      "astropy                   3.0.2            py36h917ab60_1  \r\n",
      "atomicwrites              1.2.1                     <pip>\r\n",
      "attrdict                  2.0.0                     <pip>\r\n",
      "attrs                     18.1.0                   py36_0  \r\n",
      "Augmentor                 0.2.2                     <pip>\r\n",
      "babel                     2.5.3                    py36_0  \r\n",
      "backcall                  0.1.0                    py36_0  \r\n",
      "backports                 1.0              py36ha3c1827_1  \r\n",
      "backports.shutil_get_terminal_size 1.0.0            py36hd7a2ee4_2  \r\n",
      "bayesian-optimization     0.6.0                     <pip>\r\n",
      "bcolz                     1.2.1                     <pip>\r\n",
      "beautifulsoup4            4.6.0            py36h72d3c9f_1  \r\n",
      "bitarray                  0.8.1            py36h1de35cc_1  \r\n",
      "bkcharts                  0.2              py36h073222e_0  \r\n",
      "blas                      1.0                         mkl  \r\n",
      "blaze                     0.11.3           py36h02e7a37_0  \r\n",
      "bleach                    2.1.3                    py36_0  \r\n",
      "blosc                     1.14.3               hd9629dc_0  \r\n",
      "bokeh                     0.12.16                  py36_0  \r\n",
      "boto                      2.48.0           py36hdbc59ac_1  \r\n",
      "boto3                     1.9.14                    <pip>\r\n",
      "botocore                  1.12.14                   <pip>\r\n",
      "bottleneck                1.2.1            py36hbd380ad_0  \r\n",
      "brewer2mpl                1.4.1                     <pip>\r\n",
      "bz2file                   0.98                      <pip>\r\n",
      "bzip2                     1.0.6                h1de35cc_5  \r\n",
      "ca-certificates           2018.03.07                    0  \r\n",
      "catboost                  0.10.2                    <pip>\r\n",
      "category-encoders         1.2.8                     <pip>\r\n",
      "certifi                   2018.4.16                py36_0  \r\n",
      "cffi                      1.11.5           py36h342bebf_0  \r\n",
      "chardet                   3.0.4            py36h96c241c_1  \r\n",
      "click                     6.7              py36hec950be_0  \r\n",
      "cloudpickle               0.5.3                    py36_0  \r\n",
      "clyent                    1.2.2            py36hae3ad88_0  \r\n",
      "colorama                  0.3.9            py36hd29a30c_0  \r\n",
      "conda-verify              2.0.0            py36he837df3_0  \r\n",
      "contextlib2               0.5.5            py36hd66e5e7_0  \r\n",
      "coverage                  4.5.2            py36h1de35cc_0  \r\n",
      "cryptography              2.2.2            py36h1de35cc_0  \r\n",
      "curl                      7.60.0               ha441bb4_0  \r\n",
      "cycler                    0.10.0           py36hfc81398_0  \r\n",
      "cython                    0.28.2           py36h1de35cc_0  \r\n",
      "cytoolz                   0.9.0.1          py36h1de35cc_0  \r\n",
      "dask                      0.17.5                   py36_0  \r\n",
      "dask-core                 0.17.5                   py36_0  \r\n",
      "datashape                 0.5.4            py36hfb22df8_0  \r\n",
      "dbus                      1.13.2               h760590f_1  \r\n",
      "decorator                 4.3.0                    py36_0  \r\n",
      "dfply                     0.3.3                     <pip>\r\n",
      "distributed               1.21.8                   py36_0  \r\n",
      "docopt                    0.6.2                     <pip>\r\n",
      "docutils                  0.14             py36hbfde631_0  \r\n",
      "entrypoints               0.2.3            py36hd81d71f_2  \r\n",
      "enum34                    1.1.6                     <pip>\r\n",
      "et_xmlfile                1.0.1            py36h1315bdc_0  \r\n",
      "expat                     2.2.5                hb8e80ba_0  \r\n",
      "fastcache                 1.0.2            py36h1de35cc_2  \r\n",
      "feather-format            0.4.0                     <pip>\r\n",
      "filelock                  3.0.4                    py36_0  \r\n",
      "Flask                     0.12                      <pip>\r\n",
      "flask                     1.0.2                    py36_1  \r\n",
      "flask-cors                3.0.4                    py36_0  \r\n",
      "freetype                  2.8                  h12048fb_1  \r\n",
      "future                    0.16.0                    <pip>\r\n",
      "gast                      0.2.0                     <pip>\r\n",
      "gensim                    3.6.0                     <pip>\r\n",
      "get_terminal_size         1.0.0                h7520d66_0  \r\n",
      "gettext                   0.19.8.1             h15daf44_3  \r\n",
      "gevent                    1.3.0            py36h1de35cc_0  \r\n",
      "ggplot                    0.11.5                    <pip>\r\n",
      "gitdb2                    2.0.4                     <pip>\r\n",
      "GitPython                 2.1.11                    <pip>\r\n",
      "glib                      2.56.1               h35bc53a_0  \r\n",
      "glob2                     0.6              py36h94c9186_0  \r\n",
      "gmp                       6.1.2                hb37e062_1  \r\n",
      "gmpy2                     2.0.8            py36hf9c35bd_2  \r\n",
      "graphviz                  0.9                       <pip>\r\n",
      "greenlet                  0.4.13           py36h1de35cc_0  \r\n",
      "grpcio                    1.14.2                    <pip>\r\n",
      "h5py                      2.7.1            py36ha8ecd60_2  \r\n",
      "hdf5                      1.10.2               hfa1e0ec_1  \r\n",
      "heapdict                  1.0.0                    py36_2  \r\n",
      "html5lib                  1.0.1            py36h2f9c1c0_0  \r\n",
      "humanize                  0.5.1                     <pip>\r\n",
      "icu                       58.2                 h4b95b61_1  \r\n",
      "idna                      2.6              py36h8628d0a_1  \r\n",
      "imageio                   2.3.0                    py36_0  \r\n",
      "imagesize                 1.0.0                    py36_0  \r\n",
      "imgaug                    0.2.6                     <pip>\r\n",
      "intel-openmp              2018.0.0                      8  \r\n",
      "ipykernel                 4.8.2                    py36_0  \r\n",
      "ipython                   6.4.0                    py36_0  \r\n",
      "ipython                   6.5.0                     <pip>\r\n",
      "ipython_genutils          0.2.0            py36h241746c_0  \r\n",
      "ipywidgets                7.2.1                    py36_0  \r\n",
      "isort                     4.3.4                    py36_0  \r\n",
      "itsdangerous              0.24             py36h49fbb8d_1  \r\n",
      "jbig                      2.1                  h4d881f8_0  \r\n",
      "jdcal                     1.4                      py36_0  \r\n",
      "jedi                      0.12.0                   py36_1  \r\n",
      "jinja2                    2.10             py36hd36f9c5_0  \r\n",
      "jmespath                  0.9.3                     <pip>\r\n",
      "joblib                    0.12.4                    <pip>\r\n",
      "jpeg                      9b                   he5867d9_2  \r\n",
      "jsonschema                2.6.0            py36hb385e00_0  \r\n",
      "jupyter                   1.0.0                    py36_4  \r\n",
      "jupyter-contrib-core      0.3.3                     <pip>\r\n",
      "jupyter-nbextensions-configurator 0.4.0                     <pip>\r\n",
      "jupyter_client            5.2.3                    py36_0  \r\n",
      "jupyter_console           5.2.0            py36hccf5b1c_1  \r\n",
      "jupyter_core              4.4.0            py36h79cf704_0  \r\n",
      "jupyterlab                0.32.1                   py36_0  \r\n",
      "jupyterlab_launcher       0.10.5                   py36_0  \r\n",
      "Keras                     2.2.2                     <pip>\r\n",
      "Keras-Applications        1.0.4                     <pip>\r\n",
      "Keras-Preprocessing       1.0.2                     <pip>\r\n",
      "kitchen                   1.2.5                     <pip>\r\n",
      "kiwisolver                1.0.1            py36h792292d_0  \r\n",
      "lazy-object-proxy         1.3.1            py36h2fbbe47_0  \r\n",
      "libcurl                   7.60.0               hf30b1f0_0  \r\n",
      "libcxx                    4.0.1                h579ed51_0  \r\n",
      "libcxxabi                 4.0.1                hebd6815_0  \r\n",
      "libedit                   3.1.20170329         hb402a30_2  \r\n",
      "libffi                    3.2.1                h475c297_4  \r\n",
      "libgfortran               3.0.1                h93005f0_2  \r\n",
      "libiconv                  1.15                 hdd342a3_7  \r\n",
      "libpng                    1.6.34               he12f830_0  \r\n",
      "libsodium                 1.0.16               h3efe00b_0  \r\n",
      "libssh2                   1.8.0                h322a93b_4  \r\n",
      "libtiff                   4.0.9                hcb84e12_1  \r\n",
      "libxml2                   2.9.8                hab757c2_1  \r\n",
      "libxslt                   1.1.32               hb819dd2_0  \r\n",
      "lightgbm                  2.1.2                     <pip>\r\n",
      "llvmlite                  0.23.1           py36hc454e04_0  \r\n",
      "locket                    0.2.0            py36hca03003_1  \r\n",
      "lxml                      4.2.1            py36h7166777_0  \r\n",
      "lzo                       2.10                 h362108e_2  \r\n",
      "Markdown                  2.6.11                    <pip>\r\n",
      "markupsafe                1.0              py36h3a1e703_1  \r\n",
      "matplotlib                2.2.2            py36ha7267d0_0  \r\n",
      "mccabe                    0.6.1            py36hdaeb55d_0  \r\n",
      "mistune                   0.8.3            py36h1de35cc_1  \r\n",
      "mkl                       2018.0.2                      1  \r\n",
      "mkl-service               1.1.2            py36h7ea6df4_4  \r\n",
      "mkl_fft                   1.0.1            py36h917ab60_0  \r\n",
      "mkl_random                1.0.1            py36h78cc56f_0  \r\n",
      "more-itertools            4.1.0                    py36_0  \r\n",
      "mpc                       1.0.3                h7a72875_5  \r\n",
      "mpfr                      3.1.5                h711e7fd_2  \r\n",
      "mpmath                    1.0.0            py36hf1b8295_2  \r\n",
      "msgpack                   0.5.6                     <pip>\r\n",
      "msgpack-python            0.5.6            py36h04f5b5a_0  \r\n",
      "multipledispatch          0.5.0                    py36_0  \r\n",
      "navigator-updater         0.2.1                    py36_0  \r\n",
      "nbconvert                 5.3.1            py36h810822e_0  \r\n",
      "nbformat                  4.4.0            py36h827af21_0  \r\n",
      "ncurses                   6.1                  h0a44026_0  \r\n",
      "neptune-cli               2.8.6                     <pip>\r\n",
      "networkx                  2.1                      py36_0  \r\n",
      "ninja                     1.8.2            py36h04f5b5a_1  \r\n",
      "nltk                      3.3.0                    py36_0  \r\n",
      "nose                      1.3.7            py36h73fae2b_2  \r\n",
      "notebook                  5.5.0                    py36_0  \r\n",
      "numba                     0.38.0           py36h1702cab_0  \r\n",
      "numexpr                   2.6.5            py36h057f876_0  \r\n",
      "numpy                     1.14.3           py36h9bb19eb_1  \r\n",
      "numpy                     1.15.2                    <pip>\r\n",
      "numpy-base                1.14.3           py36h479e554_1  \r\n",
      "numpydoc                  0.8.0                    py36_0  \r\n",
      "nvidia-ml-py3             7.352.0                   <pip>\r\n",
      "oauthlib                  2.1.0                     <pip>\r\n",
      "odo                       0.5.1            py36hc1af34a_0  \r\n",
      "olefile                   0.45.1                   py36_0  \r\n",
      "openpyxl                  2.5.3                    py36_0  \r\n",
      "openssl                   1.0.2o               h26aff7b_0  \r\n",
      "packaging                 17.1                     py36_0  \r\n",
      "pandas                    0.23.4                    <pip>\r\n",
      "pandas                    0.23.0           py36h1702cab_0  \r\n",
      "pandas-summary            0.0.5                     <pip>\r\n",
      "pandoc                    1.19.2.1             ha5e8f32_1  \r\n",
      "pandocfilters             1.4.2            py36h3b0b094_1  \r\n",
      "parso                     0.2.0                    py36_0  \r\n",
      "partd                     0.3.8            py36hf5c4cb8_0  \r\n",
      "path.py                   11.0.1                   py36_0  \r\n",
      "pathlib2                  2.3.0                     <pip>\r\n",
      "pathlib2                  2.3.2                    py36_0  \r\n",
      "patsy                     0.5.0                    py36_0  \r\n",
      "pcre                      8.42                 h378b8a2_0  \r\n",
      "pep8                      1.7.1                    py36_0  \r\n",
      "pexpect                   4.5.0                    py36_0  \r\n",
      "pickleshare               0.7.4            py36hf512f8e_0  \r\n",
      "pillow                    5.1.0            py36hfcce615_0  \r\n",
      "pip                       10.0.1                   py36_0  \r\n",
      "pip                       18.0                      <pip>\r\n",
      "pip                       18.1                      <pip>\r\n",
      "pkginfo                   1.4.2                    py36_1  \r\n",
      "plotly                    3.2.0                     <pip>\r\n",
      "pluggy                    0.6.0            py36hb1d0581_0  \r\n",
      "pluggy                    0.6.0                     <pip>\r\n",
      "ply                       3.11                     py36_0  \r\n",
      "probscale                 0.2.3                     <pip>\r\n",
      "prompt_toolkit            1.0.15           py36haeda067_0  \r\n",
      "protobuf                  3.6.1                     <pip>\r\n",
      "psutil                    5.4.5            py36h1de35cc_0  \r\n",
      "ptyprocess                0.5.2            py36he6521c3_0  \r\n",
      "py                        1.5.3                    py36_0  \r\n",
      "pyarrow                   0.10.0                    <pip>\r\n",
      "pycocotools               2.0.0                     <pip>\r\n",
      "pycodestyle               2.4.0                    py36_0  \r\n",
      "pycosat                   0.6.3            py36hee92d8f_0  \r\n",
      "pycparser                 2.18             py36h724b2fc_1  \r\n",
      "pycrypto                  2.6.1            py36h1de35cc_8  \r\n",
      "pycurl                    7.43.0.1         py36hdbc3d79_0  \r\n",
      "pydot-ng                  1.0.0                     <pip>\r\n",
      "pyflakes                  1.6.0            py36hea45e83_0  \r\n",
      "pygments                  2.2.0            py36h240cd3f_0  \r\n",
      "PyJWT                     1.6.4                     <pip>\r\n",
      "pykwalify                 1.5.2                     <pip>\r\n",
      "pylint                    1.8.4                    py36_0  \r\n",
      "pyodbc                    4.0.23           py36h0a44026_0  \r\n",
      "pyopenssl                 18.0.0                   py36_0  \r\n",
      "pyparsing                 2.2.0            py36hb281f35_0  \r\n",
      "pyqt                      5.9.2            py36h11d3b92_0  \r\n",
      "pysocks                   1.6.8                    py36_0  \r\n",
      "pytables                  3.4.3            py36h5ca999c_2  \r\n",
      "pytest                    3.5.1                    py36_0  \r\n",
      "pytest                    3.5.1                     <pip>\r\n",
      "pytest-arraydiff          0.2                      py36_0  \r\n",
      "pytest-astropy            0.3.0                    py36_0  \r\n",
      "pytest-doctestplus        0.1.3                    py36_0  \r\n",
      "pytest-openfiles          0.3.0                    py36_0  \r\n",
      "pytest-remotedata         0.2.1                    py36_0  \r\n",
      "python                    3.6.5                hc167b69_1  \r\n",
      "python-dateutil           2.7.3                    py36_0  \r\n",
      "python.app                2                        py36_8  \r\n",
      "pytorch                   0.4.1           py36_cuda0.0_cudnn0.0_1    pytorch\r\n",
      "pytz                      2018.4                   py36_0  \r\n",
      "pywavelets                0.5.2            py36h2710a04_0  \r\n",
      "pyyaml                    3.12             py36h2ba1e63_1  \r\n",
      "pyzmq                     17.0.0           py36h1de35cc_1  \r\n",
      "qt                        5.9.5                h02808f3_0  \r\n",
      "qtawesome                 0.4.4            py36h468c6fb_0  \r\n",
      "qtconsole                 4.3.1            py36hd96c0ff_0  \r\n",
      "qtpy                      1.4.1                    py36_0  \r\n",
      "raven                     6.9.0                     <pip>\r\n",
      "readline                  7.0                  hc1231fa_4  \r\n",
      "requests                  2.18.4           py36h4516966_1  \r\n",
      "requests-oauthlib         1.0.0                     <pip>\r\n",
      "retrying                  1.3.3                     <pip>\r\n",
      "rope                      0.10.7           py36h68959ac_0  \r\n",
      "ruamel_yaml               0.15.35          py36h1de35cc_1  \r\n",
      "s3transfer                0.1.13                    <pip>\r\n",
      "scikit-image              0.13.1           py36h1de35cc_1  \r\n",
      "scikit-learn              0.19.1           py36hffbff8c_0  \r\n",
      "scipy                     1.1.0            py36hcaad992_0  \r\n",
      "seaborn                   0.8.1            py36h595ecd9_0  \r\n",
      "send2trash                1.5.0                    py36_0  \r\n",
      "setuptools                40.2.0                    <pip>\r\n",
      "setuptools                39.1.0                   py36_0  \r\n",
      "setuptools                39.1.0                    <pip>\r\n",
      "simplegeneric             0.8.1                    py36_2  \r\n",
      "singledispatch            3.4.0.3          py36hf20db9d_0  \r\n",
      "sip                       4.19.8           py36h0a44026_0  \r\n",
      "six                       1.11.0           py36h0e22d5e_1  \r\n",
      "sklearn-pandas            1.7.0                     <pip>\r\n",
      "smart-open                1.7.1                     <pip>\r\n",
      "smmap2                    2.0.4                     <pip>\r\n",
      "snappy                    1.1.7                he62c110_3  \r\n",
      "snowballstemmer           1.2.1            py36h6c7b616_0  \r\n",
      "sortedcollections         0.6.1                    py36_0  \r\n",
      "sortedcontainers          1.5.10                   py36_0  \r\n",
      "Sphinx                    1.8.1                     <pip>\r\n",
      "sphinx                    1.7.4                    py36_0  \r\n",
      "sphinx-rtd-theme          0.4.1                     <pip>\r\n",
      "sphinxcontrib             1.0              py36h9364dc8_1  \r\n",
      "sphinxcontrib-websupport  1.0.1            py36h92f4a7a_1  \r\n",
      "spyder                    3.2.8                    py36_0  \r\n",
      "sqlalchemy                1.2.7            py36hb402a30_0  \r\n",
      "sqlite                    3.23.1               hf1716c9_0  \r\n",
      "statsmodels               0.9.0            py36h917ab60_0  \r\n",
      "statsmodels               0.8.0                     <pip>\r\n",
      "steppy                    0.1.6                     <pip>\r\n",
      "steppy-toolkit            0.1.8                     <pip>\r\n",
      "sympy                     1.1.1            py36h7f3cf04_0  \r\n",
      "tblib                     1.3.2            py36hda67792_0  \r\n",
      "tensorboard               1.10.0                    <pip>\r\n",
      "tensorflow                1.10.1                    <pip>\r\n",
      "termcolor                 1.1.0                     <pip>\r\n",
      "terminado                 0.8.1                    py36_1  \r\n",
      "terminaltables            2.1.0                     <pip>\r\n",
      "testpath                  0.3.1            py36h625a49b_0  \r\n",
      "tk                        8.6.7                h35a86e2_3  \r\n",
      "toolz                     0.9.0                    py36_0  \r\n",
      "torchvision               0.2.1                    py36_1    pytorch\r\n",
      "tornado                   5.0.2                    py36_0  \r\n",
      "tqdm                      4.23.0                    <pip>\r\n",
      "traitlets                 4.3.2            py36h65bd3ce_0  \r\n",
      "typing                    3.6.4                    py36_0  \r\n",
      "unicodecsv                0.14.1           py36he531d66_0  \r\n",
      "unixodbc                  2.3.6                h3efe00b_0  \r\n",
      "urllib3                   1.22             py36h68b9469_0  \r\n",
      "voluptuous                0.11.5                    <pip>\r\n",
      "wcwidth                   0.1.7            py36h8c6ec74_0  \r\n",
      "webencodings              0.5.1            py36h3b9701d_1  \r\n",
      "websocket-client          0.53.0                    <pip>\r\n",
      "werkzeug                  0.14.1                   py36_0  \r\n",
      "wheel                     0.31.1                   py36_0  \r\n",
      "widgetsnbextension        3.2.1                    py36_0  \r\n",
      "wrapt                     1.10.11          py36hc29e774_0  \r\n",
      "xgboost                   0.80                      <pip>\r\n",
      "xlrd                      1.1.0            py36h336f4a2_1  \r\n",
      "xlsxwriter                1.0.4                    py36_0  \r\n",
      "xlwings                   0.11.8                   py36_0  \r\n",
      "xlwt                      1.2.0            py36h5ad1178_0  \r\n",
      "xz                        5.2.4                h1de35cc_4  \r\n",
      "yaml                      0.1.7                hc338f04_2  \r\n",
      "zeromq                    4.2.5                h378b8a2_0  \r\n",
      "zict                      0.1.3            py36h71da714_0  \r\n",
      "zlib                      1.2.11               hf3cbc9b_2  \r\n"
     ]
    }
   ],
   "source": [
    "!conda list"
   ]
  },
  {
   "cell_type": "markdown",
   "metadata": {
    "heading_collapsed": true
   },
   "source": [
    "## Clean out EXPERIMENT_DIR"
   ]
  },
  {
   "cell_type": "code",
   "execution_count": 5,
   "metadata": {
    "ExecuteTime": {
     "end_time": "2018-12-09T00:07:56.807228Z",
     "start_time": "2018-12-09T00:07:56.766823Z"
    },
    "hidden": true
   },
   "outputs": [
    {
     "name": "stdout",
     "output_type": "stream",
     "text": [
      "foo\n",
      "None\n",
      "None\n"
     ]
    }
   ],
   "source": [
    "for v in ['foo',None,None]: print(v)"
   ]
  },
  {
   "cell_type": "code",
   "execution_count": 6,
   "metadata": {
    "ExecuteTime": {
     "end_time": "2018-12-09T00:07:57.077273Z",
     "start_time": "2018-12-09T00:07:56.810205Z"
    },
    "hidden": true
   },
   "outputs": [
    {
     "name": "stdout",
     "output_type": "stream",
     "text": [
      "mkdir: ../input/models: File exists\n",
      "mkdir: ../input/models/tmp: File exists\n"
     ]
    }
   ],
   "source": [
    "MODELS_DIR = '../input/models'\n",
    "EXPERIMENT_DIR = MODELS_DIR+'/tmp'\n",
    "!mkdir $MODELS_DIR\n",
    "!mkdir $EXPERIMENT_DIR\n",
    "import shutil\n",
    "\n",
    "# By default pipelines will try to load previously trained models so we delete the cache to ba sure we're starting from scratch\n",
    "shutil.rmtree(EXPERIMENT_DIR, ignore_errors=True)"
   ]
  },
  {
   "cell_type": "markdown",
   "metadata": {},
   "source": [
    "## Data Setup"
   ]
  },
  {
   "cell_type": "markdown",
   "metadata": {
    "heading_collapsed": true
   },
   "source": [
    "### df_type"
   ]
  },
  {
   "cell_type": "code",
   "execution_count": 7,
   "metadata": {
    "ExecuteTime": {
     "end_time": "2018-12-09T00:07:57.176747Z",
     "start_time": "2018-12-09T00:07:57.080309Z"
    },
    "hidden": true
   },
   "outputs": [
    {
     "data": {
      "text/plain": [
       "((5, 5),    boolean  integer  float object categorical\n",
       " 0     True        1   1.00    red         red\n",
       " 1    False        2   2.00   blue        blue\n",
       " 2     True       33  35.00  green       green\n",
       " 3    False       44  46.00   pink        pink\n",
       " 4     True       34   0.37    NaN         NaN)"
      ]
     },
     "execution_count": 7,
     "metadata": {},
     "output_type": "execute_result"
    }
   ],
   "source": [
    "df_type = pd.DataFrame({\n",
    "    'boolean': [True,False,True,False,True], \n",
    "    'integer': [1,2,33,44,34],\n",
    "    'float': [1.,2.,35.,46,.37],\n",
    "    'object': ['red','blue','green','pink',np.nan]\n",
    "    \n",
    "})\n",
    "df_type = pd.concat([df_type\n",
    "              ,pd.Series( ['red','blue','green','pink',np.nan],dtype='category',name='categorical')]\n",
    "               ,axis=1)\n",
    "df_type.shape,df_type"
   ]
  },
  {
   "cell_type": "markdown",
   "metadata": {
    "heading_collapsed": true
   },
   "source": [
    "### City"
   ]
  },
  {
   "cell_type": "code",
   "execution_count": 8,
   "metadata": {
    "ExecuteTime": {
     "end_time": "2018-12-09T00:07:57.479629Z",
     "start_time": "2018-12-09T00:07:57.179558Z"
    },
    "hidden": true
   },
   "outputs": [
    {
     "name": "stdout",
     "output_type": "stream",
     "text": [
      "2018-12-08 19:07:57 steppy >>> ['CRIM' 'ZN' 'INDUS' 'CHAS' 'NOX' 'RM' 'AGE' 'DIS' 'RAD' 'TAX' 'PTRATIO'\n",
      " 'B' 'LSTAT']\n",
      "2018-12-08 19:07:57 steppy >>> Boston House Prices dataset\n",
      "===========================\n",
      "\n",
      "Notes\n",
      "------\n",
      "Data Set Characteristics:  \n",
      "\n",
      "    :Number of Instances: 506 \n",
      "\n",
      "    :Number of Attributes: 13 numeric/categorical predictive\n",
      "    \n",
      "    :Median Value (attribute 14) is usually the target\n",
      "\n",
      "    :Attribute Information (in order):\n",
      "        - CRIM     per capita crime rate by town\n",
      "        - ZN       proportion of residential land zoned for lots over 25,000 sq.ft.\n",
      "        - INDUS    proportion of non-retail business acres per town\n",
      "        - CHAS     Charles River dummy variable (= 1 if tract bounds river; 0 otherwise)\n",
      "        - NOX      nitric oxides concentration (parts per 10 million)\n",
      "        - RM       average number of rooms per dwelling\n",
      "        - AGE      proportion of owner-occupied units built prior to 1940\n",
      "        - DIS      weighted distances to five Boston employment centres\n",
      "        - RAD      index of accessibility to radial highways\n",
      "        - TAX      full-value property-tax rate per $10,000\n",
      "        - PTRATIO  pupil-teacher ratio by town\n",
      "        - B        1000(Bk - 0.63)^2 where Bk is the proportion of blacks by town\n",
      "        - LSTAT    % lower status of the population\n",
      "        - MEDV     Median value of owner-occupied homes in $1000's\n",
      "\n",
      "    :Missing Attribute Values: None\n",
      "\n",
      "    :Creator: Harrison, D. and Rubinfeld, D.L.\n",
      "\n",
      "This is a copy of UCI ML housing dataset.\n",
      "http://archive.ics.uci.edu/ml/datasets/Housing\n",
      "\n",
      "\n",
      "This dataset was taken from the StatLib library which is maintained at Carnegie Mellon University.\n",
      "\n",
      "The Boston house-price data of Harrison, D. and Rubinfeld, D.L. 'Hedonic\n",
      "prices and the demand for clean air', J. Environ. Economics & Management,\n",
      "vol.5, 81-102, 1978.   Used in Belsley, Kuh & Welsch, 'Regression diagnostics\n",
      "...', Wiley, 1980.   N.B. Various transformations are used in the table on\n",
      "pages 244-261 of the latter.\n",
      "\n",
      "The Boston house-price data has been used in many machine learning papers that address regression\n",
      "problems.   \n",
      "     \n",
      "**References**\n",
      "\n",
      "   - Belsley, Kuh & Welsch, 'Regression diagnostics: Identifying Influential Data and Sources of Collinearity', Wiley, 1980. 244-261.\n",
      "   - Quinlan,R. (1993). Combining Instance-Based and Model-Based Learning. In Proceedings on the Tenth International Conference of Machine Learning, 236-243, University of Massachusetts, Amherst. Morgan Kaufmann.\n",
      "   - many more! (see http://archive.ics.uci.edu/ml/datasets/Housing)\n",
      "\n",
      "2018-12-08 19:07:57 steppy >>> (506, 14)\n",
      "2018-12-08 19:07:57 steppy >>> Index(['CRIM', 'ZN', 'INDUS', 'CHAS', 'NOX', 'RM', 'AGE', 'DIS', 'RAD', 'TAX',\n",
      "       'PTRATIO', 'B', 'LSTAT', 'MEDV'],\n",
      "      dtype='object')\n"
     ]
    }
   ],
   "source": [
    "from sklearn.datasets import load_boston\n",
    "boston = load_boston()\n",
    "\n",
    "logger.info(boston.feature_names)\n",
    "logger.info(boston.DESCR)\n",
    "City = pd.DataFrame(boston.data, columns = boston.feature_names )\n",
    "#City = City[['CRIM', 'INDUS','NOX','TAX','B']]\n",
    "City['MEDV'] = boston.target\n",
    "logger.info(City.shape)\n",
    "logger.info(City.columns)"
   ]
  },
  {
   "cell_type": "markdown",
   "metadata": {
    "heading_collapsed": true
   },
   "source": [
    "### data_City"
   ]
  },
  {
   "cell_type": "code",
   "execution_count": 9,
   "metadata": {
    "ExecuteTime": {
     "end_time": "2018-12-09T00:07:57.521801Z",
     "start_time": "2018-12-09T00:07:57.481980Z"
    },
    "hidden": true
   },
   "outputs": [],
   "source": [
    "data_City = {\n",
    "    'input': {\n",
    "        'features': City,\n",
    "        'labels': ['CRIME'],\n",
    "        'ignore': ['ZN','CHAS','RM', 'RAD','MEDV'],\n",
    "        'SD_LIMIT': .05\n",
    "    }\n",
    "}"
   ]
  },
  {
   "cell_type": "markdown",
   "metadata": {
    "heading_collapsed": true
   },
   "source": [
    "### Housing"
   ]
  },
  {
   "cell_type": "code",
   "execution_count": 10,
   "metadata": {
    "ExecuteTime": {
     "end_time": "2018-12-09T00:07:57.579249Z",
     "start_time": "2018-12-09T00:07:57.523894Z"
    },
    "hidden": true
   },
   "outputs": [
    {
     "name": "stdout",
     "output_type": "stream",
     "text": [
      "Automatically created module for IPython interactive environment\n",
      "2018-12-08 19:07:57 steppy >>> (20640, 8)\n",
      "2018-12-08 19:07:57 steppy >>> ['MedInc', 'HouseAge', 'AveRooms', 'AveBedrms', 'Population', 'AveOccup', 'Latitude', 'Longitude']\n",
      "2018-12-08 19:07:57 steppy >>> California housing dataset.\n",
      "\n",
      "The original database is available from StatLib\n",
      "\n",
      "    http://lib.stat.cmu.edu/datasets/\n",
      "\n",
      "The data contains 20,640 observations on 9 variables.\n",
      "\n",
      "This dataset contains the average house value as target variable\n",
      "and the following input variables (features): average income,\n",
      "housing average age, average rooms, average bedrooms, population,\n",
      "average occupation, latitude, and longitude in that order.\n",
      "\n",
      "References\n",
      "----------\n",
      "\n",
      "Pace, R. Kelley and Ronald Barry, Sparse Spatial Autoregressions,\n",
      "Statistics and Probability Letters, 33 (1997) 291-297.\n",
      "\n",
      "\n",
      "2018-12-08 19:07:57 steppy >>> (20640, 8)\n",
      "2018-12-08 19:07:57 steppy >>> Index(['MedInc', 'HouseAge', 'AveRooms', 'AveBedrms', 'Population', 'AveOccup',\n",
      "       'Latitude', 'Longitude'],\n",
      "      dtype='object')\n"
     ]
    }
   ],
   "source": [
    "from sklearn.datasets import fetch_california_housing\n",
    "print(__doc__)\n",
    "dataset = fetch_california_housing()\n",
    "\n",
    "# Take only 2 features to make visualization easier\n",
    "# Feature of 0 has a long tail distribution.\n",
    "# Feature 5 has a few but very large outliers.\n",
    "logger.info(dataset.data.shape)\n",
    "logger.info(dataset.feature_names)\n",
    "logger.info(dataset.DESCR) \n",
    "Housing = pd.DataFrame(dataset.data, columns = dataset.feature_names )\n",
    "#keeppers = ['MedInc', 'HouseAge', 'AveRooms'\n",
    "#                   , 'AveBedrms', 'Population', 'AveOccup']\n",
    "#Housing = Housing[keeppers]\n",
    "logger.info(Housing.shape)\n",
    "logger.info(Housing.columns)"
   ]
  },
  {
   "cell_type": "code",
   "execution_count": 11,
   "metadata": {
    "ExecuteTime": {
     "end_time": "2018-12-09T00:07:57.634027Z",
     "start_time": "2018-12-09T00:07:57.581832Z"
    },
    "hidden": true
   },
   "outputs": [
    {
     "name": "stdout",
     "output_type": "stream",
     "text": [
      "2018-12-08 19:07:57 steppy >>> (150, 4)\n",
      "2018-12-08 19:07:57 steppy >>> ['sepal length (cm)', 'sepal width (cm)', 'petal length (cm)', 'petal width (cm)']\n",
      "2018-12-08 19:07:57 steppy >>> Iris Plants Database\n",
      "====================\n",
      "\n",
      "Notes\n",
      "-----\n",
      "Data Set Characteristics:\n",
      "    :Number of Instances: 150 (50 in each of three classes)\n",
      "    :Number of Attributes: 4 numeric, predictive attributes and the class\n",
      "    :Attribute Information:\n",
      "        - sepal length in cm\n",
      "        - sepal width in cm\n",
      "        - petal length in cm\n",
      "        - petal width in cm\n",
      "        - class:\n",
      "                - Iris-Setosa\n",
      "                - Iris-Versicolour\n",
      "                - Iris-Virginica\n",
      "    :Summary Statistics:\n",
      "\n",
      "    ============== ==== ==== ======= ===== ====================\n",
      "                    Min  Max   Mean    SD   Class Correlation\n",
      "    ============== ==== ==== ======= ===== ====================\n",
      "    sepal length:   4.3  7.9   5.84   0.83    0.7826\n",
      "    sepal width:    2.0  4.4   3.05   0.43   -0.4194\n",
      "    petal length:   1.0  6.9   3.76   1.76    0.9490  (high!)\n",
      "    petal width:    0.1  2.5   1.20  0.76     0.9565  (high!)\n",
      "    ============== ==== ==== ======= ===== ====================\n",
      "\n",
      "    :Missing Attribute Values: None\n",
      "    :Class Distribution: 33.3% for each of 3 classes.\n",
      "    :Creator: R.A. Fisher\n",
      "    :Donor: Michael Marshall (MARSHALL%PLU@io.arc.nasa.gov)\n",
      "    :Date: July, 1988\n",
      "\n",
      "This is a copy of UCI ML iris datasets.\n",
      "http://archive.ics.uci.edu/ml/datasets/Iris\n",
      "\n",
      "The famous Iris database, first used by Sir R.A Fisher\n",
      "\n",
      "This is perhaps the best known database to be found in the\n",
      "pattern recognition literature.  Fisher's paper is a classic in the field and\n",
      "is referenced frequently to this day.  (See Duda & Hart, for example.)  The\n",
      "data set contains 3 classes of 50 instances each, where each class refers to a\n",
      "type of iris plant.  One class is linearly separable from the other 2; the\n",
      "latter are NOT linearly separable from each other.\n",
      "\n",
      "References\n",
      "----------\n",
      "   - Fisher,R.A. \"The use of multiple measurements in taxonomic problems\"\n",
      "     Annual Eugenics, 7, Part II, 179-188 (1936); also in \"Contributions to\n",
      "     Mathematical Statistics\" (John Wiley, NY, 1950).\n",
      "   - Duda,R.O., & Hart,P.E. (1973) Pattern Classification and Scene Analysis.\n",
      "     (Q327.D83) John Wiley & Sons.  ISBN 0-471-22361-1.  See page 218.\n",
      "   - Dasarathy, B.V. (1980) \"Nosing Around the Neighborhood: A New System\n",
      "     Structure and Classification Rule for Recognition in Partially Exposed\n",
      "     Environments\".  IEEE Transactions on Pattern Analysis and Machine\n",
      "     Intelligence, Vol. PAMI-2, No. 1, 67-71.\n",
      "   - Gates, G.W. (1972) \"The Reduced Nearest Neighbor Rule\".  IEEE Transactions\n",
      "     on Information Theory, May 1972, 431-433.\n",
      "   - See also: 1988 MLC Proceedings, 54-64.  Cheeseman et al\"s AUTOCLASS II\n",
      "     conceptual clustering system finds 3 classes in the data.\n",
      "   - Many, many more ...\n",
      "\n",
      "2018-12-08 19:07:57 steppy >>> (150, 4)\n",
      "2018-12-08 19:07:57 steppy >>> Index(['sepal length (cm)', 'sepal width (cm)', 'petal length (cm)',\n",
      "       'petal width (cm)'],\n",
      "      dtype='object')\n"
     ]
    }
   ],
   "source": [
    "from sklearn.datasets import load_iris\n",
    "dataset = load_iris()\n",
    "logger.info(dataset.data.shape)\n",
    "logger.info(dataset.feature_names)\n",
    "logger.info(dataset.DESCR) \n",
    "Iris = pd.DataFrame(dataset.data, columns = dataset.feature_names )\n",
    "logger.info(Iris.shape)\n",
    "logger.info(Iris.columns)\n"
   ]
  },
  {
   "cell_type": "markdown",
   "metadata": {},
   "source": [
    "### breast_cancer"
   ]
  },
  {
   "cell_type": "code",
   "execution_count": 12,
   "metadata": {
    "ExecuteTime": {
     "end_time": "2018-12-09T00:07:58.077936Z",
     "start_time": "2018-12-09T00:07:57.636980Z"
    }
   },
   "outputs": [
    {
     "name": "stdout",
     "output_type": "stream",
     "text": [
      "2018-12-08 19:07:57 steppy >>> ['mean radius' 'mean texture' 'mean perimeter' 'mean area'\n",
      " 'mean smoothness' 'mean compactness' 'mean concavity'\n",
      " 'mean concave points' 'mean symmetry' 'mean fractal dimension'\n",
      " 'radius error' 'texture error' 'perimeter error' 'area error'\n",
      " 'smoothness error' 'compactness error' 'concavity error'\n",
      " 'concave points error' 'symmetry error' 'fractal dimension error'\n",
      " 'worst radius' 'worst texture' 'worst perimeter' 'worst area'\n",
      " 'worst smoothness' 'worst compactness' 'worst concavity'\n",
      " 'worst concave points' 'worst symmetry' 'worst fractal dimension']\n",
      "2018-12-08 19:07:57 steppy >>> Breast Cancer Wisconsin (Diagnostic) Database\n",
      "=============================================\n",
      "\n",
      "Notes\n",
      "-----\n",
      "Data Set Characteristics:\n",
      "    :Number of Instances: 569\n",
      "\n",
      "    :Number of Attributes: 30 numeric, predictive attributes and the class\n",
      "\n",
      "    :Attribute Information:\n",
      "        - radius (mean of distances from center to points on the perimeter)\n",
      "        - texture (standard deviation of gray-scale values)\n",
      "        - perimeter\n",
      "        - area\n",
      "        - smoothness (local variation in radius lengths)\n",
      "        - compactness (perimeter^2 / area - 1.0)\n",
      "        - concavity (severity of concave portions of the contour)\n",
      "        - concave points (number of concave portions of the contour)\n",
      "        - symmetry \n",
      "        - fractal dimension (\"coastline approximation\" - 1)\n",
      "\n",
      "        The mean, standard error, and \"worst\" or largest (mean of the three\n",
      "        largest values) of these features were computed for each image,\n",
      "        resulting in 30 features.  For instance, field 3 is Mean Radius, field\n",
      "        13 is Radius SE, field 23 is Worst Radius.\n",
      "\n",
      "        - class:\n",
      "                - WDBC-Malignant\n",
      "                - WDBC-Benign\n",
      "\n",
      "    :Summary Statistics:\n",
      "\n",
      "    ===================================== ====== ======\n",
      "                                           Min    Max\n",
      "    ===================================== ====== ======\n",
      "    radius (mean):                        6.981  28.11\n",
      "    texture (mean):                       9.71   39.28\n",
      "    perimeter (mean):                     43.79  188.5\n",
      "    area (mean):                          143.5  2501.0\n",
      "    smoothness (mean):                    0.053  0.163\n",
      "    compactness (mean):                   0.019  0.345\n",
      "    concavity (mean):                     0.0    0.427\n",
      "    concave points (mean):                0.0    0.201\n",
      "    symmetry (mean):                      0.106  0.304\n",
      "    fractal dimension (mean):             0.05   0.097\n",
      "    radius (standard error):              0.112  2.873\n",
      "    texture (standard error):             0.36   4.885\n",
      "    perimeter (standard error):           0.757  21.98\n",
      "    area (standard error):                6.802  542.2\n",
      "    smoothness (standard error):          0.002  0.031\n",
      "    compactness (standard error):         0.002  0.135\n",
      "    concavity (standard error):           0.0    0.396\n",
      "    concave points (standard error):      0.0    0.053\n",
      "    symmetry (standard error):            0.008  0.079\n",
      "    fractal dimension (standard error):   0.001  0.03\n",
      "    radius (worst):                       7.93   36.04\n",
      "    texture (worst):                      12.02  49.54\n",
      "    perimeter (worst):                    50.41  251.2\n",
      "    area (worst):                         185.2  4254.0\n",
      "    smoothness (worst):                   0.071  0.223\n",
      "    compactness (worst):                  0.027  1.058\n",
      "    concavity (worst):                    0.0    1.252\n",
      "    concave points (worst):               0.0    0.291\n",
      "    symmetry (worst):                     0.156  0.664\n",
      "    fractal dimension (worst):            0.055  0.208\n",
      "    ===================================== ====== ======\n",
      "\n",
      "    :Missing Attribute Values: None\n",
      "\n",
      "    :Class Distribution: 212 - Malignant, 357 - Benign\n",
      "\n",
      "    :Creator:  Dr. William H. Wolberg, W. Nick Street, Olvi L. Mangasarian\n",
      "\n",
      "    :Donor: Nick Street\n",
      "\n",
      "    :Date: November, 1995\n",
      "\n",
      "This is a copy of UCI ML Breast Cancer Wisconsin (Diagnostic) datasets.\n",
      "https://goo.gl/U2Uwz2\n",
      "\n",
      "Features are computed from a digitized image of a fine needle\n",
      "aspirate (FNA) of a breast mass.  They describe\n",
      "characteristics of the cell nuclei present in the image.\n",
      "\n",
      "Separating plane described above was obtained using\n",
      "Multisurface Method-Tree (MSM-T) [K. P. Bennett, \"Decision Tree\n",
      "Construction Via Linear Programming.\" Proceedings of the 4th\n",
      "Midwest Artificial Intelligence and Cognitive Science Society,\n",
      "pp. 97-101, 1992], a classification method which uses linear\n",
      "programming to construct a decision tree.  Relevant features\n",
      "were selected using an exhaustive search in the space of 1-4\n",
      "features and 1-3 separating planes.\n",
      "\n",
      "The actual linear program used to obtain the separating plane\n",
      "in the 3-dimensional space is that described in:\n",
      "[K. P. Bennett and O. L. Mangasarian: \"Robust Linear\n",
      "Programming Discrimination of Two Linearly Inseparable Sets\",\n",
      "Optimization Methods and Software 1, 1992, 23-34].\n",
      "\n",
      "This database is also available through the UW CS ftp server:\n",
      "\n",
      "ftp ftp.cs.wisc.edu\n",
      "cd math-prog/cpo-dataset/machine-learn/WDBC/\n",
      "\n",
      "References\n",
      "----------\n",
      "   - W.N. Street, W.H. Wolberg and O.L. Mangasarian. Nuclear feature extraction \n",
      "     for breast tumor diagnosis. IS&T/SPIE 1993 International Symposium on \n",
      "     Electronic Imaging: Science and Technology, volume 1905, pages 861-870,\n",
      "     San Jose, CA, 1993.\n",
      "   - O.L. Mangasarian, W.N. Street and W.H. Wolberg. Breast cancer diagnosis and \n",
      "     prognosis via linear programming. Operations Research, 43(4), pages 570-577, \n",
      "     July-August 1995.\n",
      "   - W.H. Wolberg, W.N. Street, and O.L. Mangasarian. Machine learning techniques\n",
      "     to diagnose breast cancer from fine-needle aspirates. Cancer Letters 77 (1994) \n",
      "     163-171.\n",
      "\n",
      "2018-12-08 19:07:57 steppy >>> (569, 35)\n",
      "2018-12-08 19:07:57 steppy >>> mean radius                       float64\n",
      "mean texture                      float64\n",
      "mean perimeter                    float64\n",
      "mean area                         float64\n",
      "mean smoothness                   float64\n",
      "mean compactness                  float64\n",
      "mean concavity                    float64\n",
      "mean concave points               float64\n",
      "mean symmetry                     float64\n",
      "mean fractal dimension            float64\n",
      "radius error                      float64\n",
      "texture error                     float64\n",
      "perimeter error                   float64\n",
      "area error                        float64\n",
      "smoothness error                  float64\n",
      "compactness error                 float64\n",
      "concavity error                   float64\n",
      "concave points error              float64\n",
      "symmetry error                    float64\n",
      "fractal dimension error           float64\n",
      "worst radius                      float64\n",
      "worst texture                     float64\n",
      "worst perimeter                   float64\n",
      "worst area                        float64\n",
      "worst smoothness                  float64\n",
      "worst compactness                 float64\n",
      "worst concavity                   float64\n",
      "worst concave points              float64\n",
      "worst symmetry                    float64\n",
      "worst fractal dimension           float64\n",
      "Negative                            int64\n",
      "Positive                            int64\n",
      "OneValueEliminate                   int64\n",
      "LowVarEliminate                     int64\n",
      "dates                      datetime64[ns]\n",
      "dtype: object\n",
      "2018-12-08 19:07:57 steppy >>>    mean radius  mean texture  mean perimeter  mean area  mean smoothness  \\\n",
      "0        17.99         10.38          122.80     1001.0          0.11840   \n",
      "1        20.57         17.77          132.90     1326.0          0.08474   \n",
      "2        19.69         21.25          130.00     1203.0          0.10960   \n",
      "3        11.42         20.38           77.58      386.1          0.14250   \n",
      "4        20.29         14.34          135.10     1297.0          0.10030   \n",
      "\n",
      "   mean compactness  mean concavity  mean concave points  mean symmetry  \\\n",
      "0           0.27760          0.3001              0.14710         0.2419   \n",
      "1           0.07864          0.0869              0.07017         0.1812   \n",
      "2           0.15990          0.1974              0.12790         0.2069   \n",
      "3           0.28390          0.2414              0.10520         0.2597   \n",
      "4           0.13280          0.1980              0.10430         0.1809   \n",
      "\n",
      "   mean fractal dimension         ...          worst compactness  \\\n",
      "0                 0.07871         ...                     0.6656   \n",
      "1                 0.05667         ...                     0.1866   \n",
      "2                 0.05999         ...                     0.4245   \n",
      "3                 0.09744         ...                     0.8663   \n",
      "4                 0.05883         ...                     0.2050   \n",
      "\n",
      "   worst concavity  worst concave points  worst symmetry  \\\n",
      "0           0.7119                0.2654          0.4601   \n",
      "1           0.2416                0.1860          0.2750   \n",
      "2           0.4504                0.2430          0.3613   \n",
      "3           0.6869                0.2575          0.6638   \n",
      "4           0.4000                0.1625          0.2364   \n",
      "\n",
      "   worst fractal dimension  Negative  Positive  OneValueEliminate  \\\n",
      "0                  0.11890         0         0                  1   \n",
      "1                  0.08902         0         0                  1   \n",
      "2                  0.08758         0         0                  1   \n",
      "3                  0.17300         0         0                  1   \n",
      "4                  0.07678         0         0                  1   \n",
      "\n",
      "   LowVarEliminate               dates  \n",
      "0                0 1906-11-11 00:00:00  \n",
      "1                1 1906-11-11 00:00:00  \n",
      "2                1 1906-11-11 12:13:14  \n",
      "3                1 1906-11-11 00:00:00  \n",
      "4                1 1906-11-11 00:00:00  \n",
      "\n",
      "[5 rows x 35 columns]\n"
     ]
    },
    {
     "data": {
      "text/html": [
       "<div>\n",
       "<style scoped>\n",
       "    .dataframe tbody tr th:only-of-type {\n",
       "        vertical-align: middle;\n",
       "    }\n",
       "\n",
       "    .dataframe tbody tr th {\n",
       "        vertical-align: top;\n",
       "    }\n",
       "\n",
       "    .dataframe thead th {\n",
       "        text-align: right;\n",
       "    }\n",
       "</style>\n",
       "<table border=\"1\" class=\"dataframe\">\n",
       "  <thead>\n",
       "    <tr style=\"text-align: right;\">\n",
       "      <th></th>\n",
       "      <th>mean radius</th>\n",
       "      <th>mean texture</th>\n",
       "      <th>mean perimeter</th>\n",
       "      <th>mean area</th>\n",
       "      <th>mean smoothness</th>\n",
       "      <th>mean compactness</th>\n",
       "      <th>mean concavity</th>\n",
       "      <th>mean concave points</th>\n",
       "      <th>mean symmetry</th>\n",
       "      <th>mean fractal dimension</th>\n",
       "      <th>...</th>\n",
       "      <th>worst compactness</th>\n",
       "      <th>worst concavity</th>\n",
       "      <th>worst concave points</th>\n",
       "      <th>worst symmetry</th>\n",
       "      <th>worst fractal dimension</th>\n",
       "      <th>Negative</th>\n",
       "      <th>Positive</th>\n",
       "      <th>OneValueEliminate</th>\n",
       "      <th>LowVarEliminate</th>\n",
       "      <th>dates</th>\n",
       "    </tr>\n",
       "  </thead>\n",
       "  <tbody>\n",
       "    <tr>\n",
       "      <th>count</th>\n",
       "      <td>569</td>\n",
       "      <td>569</td>\n",
       "      <td>569</td>\n",
       "      <td>569</td>\n",
       "      <td>569</td>\n",
       "      <td>569</td>\n",
       "      <td>569</td>\n",
       "      <td>569</td>\n",
       "      <td>569</td>\n",
       "      <td>569</td>\n",
       "      <td>...</td>\n",
       "      <td>569</td>\n",
       "      <td>569</td>\n",
       "      <td>569</td>\n",
       "      <td>569</td>\n",
       "      <td>569</td>\n",
       "      <td>569</td>\n",
       "      <td>569</td>\n",
       "      <td>569</td>\n",
       "      <td>569</td>\n",
       "      <td>NaN</td>\n",
       "    </tr>\n",
       "    <tr>\n",
       "      <th>mean</th>\n",
       "      <td>14.1273</td>\n",
       "      <td>19.2896</td>\n",
       "      <td>91.969</td>\n",
       "      <td>654.889</td>\n",
       "      <td>0.0963603</td>\n",
       "      <td>0.104341</td>\n",
       "      <td>0.0887993</td>\n",
       "      <td>0.0489191</td>\n",
       "      <td>0.181162</td>\n",
       "      <td>0.0627976</td>\n",
       "      <td>...</td>\n",
       "      <td>0.254265</td>\n",
       "      <td>0.272188</td>\n",
       "      <td>0.114606</td>\n",
       "      <td>0.290076</td>\n",
       "      <td>0.0839458</td>\n",
       "      <td>0.627417</td>\n",
       "      <td>0.627417</td>\n",
       "      <td>1</td>\n",
       "      <td>0.998243</td>\n",
       "      <td>NaN</td>\n",
       "    </tr>\n",
       "    <tr>\n",
       "      <th>std</th>\n",
       "      <td>3.52405</td>\n",
       "      <td>4.30104</td>\n",
       "      <td>24.299</td>\n",
       "      <td>351.914</td>\n",
       "      <td>0.0140641</td>\n",
       "      <td>0.0528128</td>\n",
       "      <td>0.0797198</td>\n",
       "      <td>0.0388028</td>\n",
       "      <td>0.0274143</td>\n",
       "      <td>0.00706036</td>\n",
       "      <td>...</td>\n",
       "      <td>0.157336</td>\n",
       "      <td>0.208624</td>\n",
       "      <td>0.0657323</td>\n",
       "      <td>0.0618675</td>\n",
       "      <td>0.0180613</td>\n",
       "      <td>0.483918</td>\n",
       "      <td>0.483918</td>\n",
       "      <td>0</td>\n",
       "      <td>0.0419222</td>\n",
       "      <td>NaN</td>\n",
       "    </tr>\n",
       "    <tr>\n",
       "      <th>min</th>\n",
       "      <td>6.981</td>\n",
       "      <td>9.71</td>\n",
       "      <td>43.79</td>\n",
       "      <td>143.5</td>\n",
       "      <td>0.05263</td>\n",
       "      <td>0.01938</td>\n",
       "      <td>0</td>\n",
       "      <td>0</td>\n",
       "      <td>0.106</td>\n",
       "      <td>0.04996</td>\n",
       "      <td>...</td>\n",
       "      <td>0.02729</td>\n",
       "      <td>0</td>\n",
       "      <td>0</td>\n",
       "      <td>0.1565</td>\n",
       "      <td>0.05504</td>\n",
       "      <td>0</td>\n",
       "      <td>0</td>\n",
       "      <td>1</td>\n",
       "      <td>0</td>\n",
       "      <td>NaN</td>\n",
       "    </tr>\n",
       "    <tr>\n",
       "      <th>25%</th>\n",
       "      <td>11.7</td>\n",
       "      <td>16.17</td>\n",
       "      <td>75.17</td>\n",
       "      <td>420.3</td>\n",
       "      <td>0.08637</td>\n",
       "      <td>0.06492</td>\n",
       "      <td>0.02956</td>\n",
       "      <td>0.02031</td>\n",
       "      <td>0.1619</td>\n",
       "      <td>0.0577</td>\n",
       "      <td>...</td>\n",
       "      <td>0.1472</td>\n",
       "      <td>0.1145</td>\n",
       "      <td>0.06493</td>\n",
       "      <td>0.2504</td>\n",
       "      <td>0.07146</td>\n",
       "      <td>0</td>\n",
       "      <td>0</td>\n",
       "      <td>1</td>\n",
       "      <td>1</td>\n",
       "      <td>NaN</td>\n",
       "    </tr>\n",
       "    <tr>\n",
       "      <th>50%</th>\n",
       "      <td>13.37</td>\n",
       "      <td>18.84</td>\n",
       "      <td>86.24</td>\n",
       "      <td>551.1</td>\n",
       "      <td>0.09587</td>\n",
       "      <td>0.09263</td>\n",
       "      <td>0.06154</td>\n",
       "      <td>0.0335</td>\n",
       "      <td>0.1792</td>\n",
       "      <td>0.06154</td>\n",
       "      <td>...</td>\n",
       "      <td>0.2119</td>\n",
       "      <td>0.2267</td>\n",
       "      <td>0.09993</td>\n",
       "      <td>0.2822</td>\n",
       "      <td>0.08004</td>\n",
       "      <td>1</td>\n",
       "      <td>1</td>\n",
       "      <td>1</td>\n",
       "      <td>1</td>\n",
       "      <td>NaN</td>\n",
       "    </tr>\n",
       "    <tr>\n",
       "      <th>75%</th>\n",
       "      <td>15.78</td>\n",
       "      <td>21.8</td>\n",
       "      <td>104.1</td>\n",
       "      <td>782.7</td>\n",
       "      <td>0.1053</td>\n",
       "      <td>0.1304</td>\n",
       "      <td>0.1307</td>\n",
       "      <td>0.074</td>\n",
       "      <td>0.1957</td>\n",
       "      <td>0.06612</td>\n",
       "      <td>...</td>\n",
       "      <td>0.3391</td>\n",
       "      <td>0.3829</td>\n",
       "      <td>0.1614</td>\n",
       "      <td>0.3179</td>\n",
       "      <td>0.09208</td>\n",
       "      <td>1</td>\n",
       "      <td>1</td>\n",
       "      <td>1</td>\n",
       "      <td>1</td>\n",
       "      <td>NaN</td>\n",
       "    </tr>\n",
       "    <tr>\n",
       "      <th>max</th>\n",
       "      <td>28.11</td>\n",
       "      <td>39.28</td>\n",
       "      <td>188.5</td>\n",
       "      <td>2501</td>\n",
       "      <td>0.1634</td>\n",
       "      <td>0.3454</td>\n",
       "      <td>0.4268</td>\n",
       "      <td>0.2012</td>\n",
       "      <td>0.304</td>\n",
       "      <td>0.09744</td>\n",
       "      <td>...</td>\n",
       "      <td>1.058</td>\n",
       "      <td>1.252</td>\n",
       "      <td>0.291</td>\n",
       "      <td>0.6638</td>\n",
       "      <td>0.2075</td>\n",
       "      <td>1</td>\n",
       "      <td>1</td>\n",
       "      <td>1</td>\n",
       "      <td>1</td>\n",
       "      <td>NaN</td>\n",
       "    </tr>\n",
       "    <tr>\n",
       "      <th>counts</th>\n",
       "      <td>569</td>\n",
       "      <td>569</td>\n",
       "      <td>569</td>\n",
       "      <td>569</td>\n",
       "      <td>569</td>\n",
       "      <td>569</td>\n",
       "      <td>569</td>\n",
       "      <td>569</td>\n",
       "      <td>569</td>\n",
       "      <td>569</td>\n",
       "      <td>...</td>\n",
       "      <td>569</td>\n",
       "      <td>569</td>\n",
       "      <td>569</td>\n",
       "      <td>569</td>\n",
       "      <td>569</td>\n",
       "      <td>569</td>\n",
       "      <td>569</td>\n",
       "      <td>569</td>\n",
       "      <td>569</td>\n",
       "      <td>569</td>\n",
       "    </tr>\n",
       "    <tr>\n",
       "      <th>uniques</th>\n",
       "      <td>456</td>\n",
       "      <td>479</td>\n",
       "      <td>522</td>\n",
       "      <td>539</td>\n",
       "      <td>474</td>\n",
       "      <td>537</td>\n",
       "      <td>537</td>\n",
       "      <td>542</td>\n",
       "      <td>432</td>\n",
       "      <td>499</td>\n",
       "      <td>...</td>\n",
       "      <td>529</td>\n",
       "      <td>539</td>\n",
       "      <td>492</td>\n",
       "      <td>500</td>\n",
       "      <td>535</td>\n",
       "      <td>2</td>\n",
       "      <td>2</td>\n",
       "      <td>1</td>\n",
       "      <td>2</td>\n",
       "      <td>2</td>\n",
       "    </tr>\n",
       "    <tr>\n",
       "      <th>missing</th>\n",
       "      <td>0</td>\n",
       "      <td>0</td>\n",
       "      <td>0</td>\n",
       "      <td>0</td>\n",
       "      <td>0</td>\n",
       "      <td>0</td>\n",
       "      <td>0</td>\n",
       "      <td>0</td>\n",
       "      <td>0</td>\n",
       "      <td>0</td>\n",
       "      <td>...</td>\n",
       "      <td>0</td>\n",
       "      <td>0</td>\n",
       "      <td>0</td>\n",
       "      <td>0</td>\n",
       "      <td>0</td>\n",
       "      <td>0</td>\n",
       "      <td>0</td>\n",
       "      <td>0</td>\n",
       "      <td>0</td>\n",
       "      <td>0</td>\n",
       "    </tr>\n",
       "    <tr>\n",
       "      <th>missing_perc</th>\n",
       "      <td>0%</td>\n",
       "      <td>0%</td>\n",
       "      <td>0%</td>\n",
       "      <td>0%</td>\n",
       "      <td>0%</td>\n",
       "      <td>0%</td>\n",
       "      <td>0%</td>\n",
       "      <td>0%</td>\n",
       "      <td>0%</td>\n",
       "      <td>0%</td>\n",
       "      <td>...</td>\n",
       "      <td>0%</td>\n",
       "      <td>0%</td>\n",
       "      <td>0%</td>\n",
       "      <td>0%</td>\n",
       "      <td>0%</td>\n",
       "      <td>0%</td>\n",
       "      <td>0%</td>\n",
       "      <td>0%</td>\n",
       "      <td>0%</td>\n",
       "      <td>0%</td>\n",
       "    </tr>\n",
       "    <tr>\n",
       "      <th>types</th>\n",
       "      <td>numeric</td>\n",
       "      <td>numeric</td>\n",
       "      <td>numeric</td>\n",
       "      <td>numeric</td>\n",
       "      <td>numeric</td>\n",
       "      <td>numeric</td>\n",
       "      <td>numeric</td>\n",
       "      <td>numeric</td>\n",
       "      <td>numeric</td>\n",
       "      <td>numeric</td>\n",
       "      <td>...</td>\n",
       "      <td>numeric</td>\n",
       "      <td>numeric</td>\n",
       "      <td>numeric</td>\n",
       "      <td>numeric</td>\n",
       "      <td>numeric</td>\n",
       "      <td>bool</td>\n",
       "      <td>bool</td>\n",
       "      <td>constant</td>\n",
       "      <td>bool</td>\n",
       "      <td>bool</td>\n",
       "    </tr>\n",
       "  </tbody>\n",
       "</table>\n",
       "<p>13 rows × 35 columns</p>\n",
       "</div>"
      ],
      "text/plain": [
       "             mean radius mean texture mean perimeter mean area  \\\n",
       "count                569          569            569       569   \n",
       "mean             14.1273      19.2896         91.969   654.889   \n",
       "std              3.52405      4.30104         24.299   351.914   \n",
       "min                6.981         9.71          43.79     143.5   \n",
       "25%                 11.7        16.17          75.17     420.3   \n",
       "50%                13.37        18.84          86.24     551.1   \n",
       "75%                15.78         21.8          104.1     782.7   \n",
       "max                28.11        39.28          188.5      2501   \n",
       "counts               569          569            569       569   \n",
       "uniques              456          479            522       539   \n",
       "missing                0            0              0         0   \n",
       "missing_perc          0%           0%             0%        0%   \n",
       "types            numeric      numeric        numeric   numeric   \n",
       "\n",
       "             mean smoothness mean compactness mean concavity  \\\n",
       "count                    569              569            569   \n",
       "mean               0.0963603         0.104341      0.0887993   \n",
       "std                0.0140641        0.0528128      0.0797198   \n",
       "min                  0.05263          0.01938              0   \n",
       "25%                  0.08637          0.06492        0.02956   \n",
       "50%                  0.09587          0.09263        0.06154   \n",
       "75%                   0.1053           0.1304         0.1307   \n",
       "max                   0.1634           0.3454         0.4268   \n",
       "counts                   569              569            569   \n",
       "uniques                  474              537            537   \n",
       "missing                    0                0              0   \n",
       "missing_perc              0%               0%             0%   \n",
       "types                numeric          numeric        numeric   \n",
       "\n",
       "             mean concave points mean symmetry mean fractal dimension  ...   \\\n",
       "count                        569           569                    569  ...    \n",
       "mean                   0.0489191      0.181162              0.0627976  ...    \n",
       "std                    0.0388028     0.0274143             0.00706036  ...    \n",
       "min                            0         0.106                0.04996  ...    \n",
       "25%                      0.02031        0.1619                 0.0577  ...    \n",
       "50%                       0.0335        0.1792                0.06154  ...    \n",
       "75%                        0.074        0.1957                0.06612  ...    \n",
       "max                       0.2012         0.304                0.09744  ...    \n",
       "counts                       569           569                    569  ...    \n",
       "uniques                      542           432                    499  ...    \n",
       "missing                        0             0                      0  ...    \n",
       "missing_perc                  0%            0%                     0%  ...    \n",
       "types                    numeric       numeric                numeric  ...    \n",
       "\n",
       "             worst compactness worst concavity worst concave points  \\\n",
       "count                      569             569                  569   \n",
       "mean                  0.254265        0.272188             0.114606   \n",
       "std                   0.157336        0.208624            0.0657323   \n",
       "min                    0.02729               0                    0   \n",
       "25%                     0.1472          0.1145              0.06493   \n",
       "50%                     0.2119          0.2267              0.09993   \n",
       "75%                     0.3391          0.3829               0.1614   \n",
       "max                      1.058           1.252                0.291   \n",
       "counts                     569             569                  569   \n",
       "uniques                    529             539                  492   \n",
       "missing                      0               0                    0   \n",
       "missing_perc                0%              0%                   0%   \n",
       "types                  numeric         numeric              numeric   \n",
       "\n",
       "             worst symmetry worst fractal dimension  Negative  Positive  \\\n",
       "count                   569                     569       569       569   \n",
       "mean               0.290076               0.0839458  0.627417  0.627417   \n",
       "std               0.0618675               0.0180613  0.483918  0.483918   \n",
       "min                  0.1565                 0.05504         0         0   \n",
       "25%                  0.2504                 0.07146         0         0   \n",
       "50%                  0.2822                 0.08004         1         1   \n",
       "75%                  0.3179                 0.09208         1         1   \n",
       "max                  0.6638                  0.2075         1         1   \n",
       "counts                  569                     569       569       569   \n",
       "uniques                 500                     535         2         2   \n",
       "missing                   0                       0         0         0   \n",
       "missing_perc             0%                      0%        0%        0%   \n",
       "types               numeric                 numeric      bool      bool   \n",
       "\n",
       "             OneValueEliminate LowVarEliminate dates  \n",
       "count                      569             569   NaN  \n",
       "mean                         1        0.998243   NaN  \n",
       "std                          0       0.0419222   NaN  \n",
       "min                          1               0   NaN  \n",
       "25%                          1               1   NaN  \n",
       "50%                          1               1   NaN  \n",
       "75%                          1               1   NaN  \n",
       "max                          1               1   NaN  \n",
       "counts                     569             569   569  \n",
       "uniques                      1               2     2  \n",
       "missing                      0               0     0  \n",
       "missing_perc                0%              0%    0%  \n",
       "types                 constant            bool  bool  \n",
       "\n",
       "[13 rows x 35 columns]"
      ]
     },
     "metadata": {},
     "output_type": "execute_result"
    }
   ],
   "source": [
    "from sklearn.datasets import load_breast_cancer\n",
    "from sklearn.model_selection import train_test_split\n",
    "ld = ['11/11/1906','11/11/1906','11/11/1906 12:13:14','11/11/1906','11/11/1906']\n",
    "dset = load_breast_cancer()\n",
    "LOGGER.info(dset.feature_names)\n",
    "LOGGER.info(dset.DESCR)\n",
    "breast_cancer = pd.DataFrame(dset.data, columns = dset.feature_names )\n",
    "#City = City[['CRIM', 'INDUS','NOX','TAX','B']]\n",
    "breast_cancer['Negative'] = dset.target\n",
    "#idenical to eliminate as idenical\n",
    "breast_cancer['Positive'] = breast_cancer['Negative']\n",
    "#elim as one value\n",
    "breast_cancer['OneValueEliminate'] = 1\n",
    "# eliminate by std\n",
    "breast_cancer['LowVarEliminate'] = breast_cancer['OneValueEliminate']\n",
    "breast_cancer.loc[0,'LowVarEliminate'] = 0\n",
    "breast_cancer['dates'] = pd.to_datetime(ld*112+ld*1+ld[0:4])\n",
    "LOGGER.info(breast_cancer.shape)\n",
    "LOGGER.info(breast_cancer.dtypes)\n",
    "LOGGER.info(breast_cancer.head())\n",
    "display(DataFrameSummary(breast_cancer).summary())\n",
    "def bc():\n",
    "    return breast_cancer.copy()\n"
   ]
  },
  {
   "cell_type": "code",
   "execution_count": 13,
   "metadata": {
    "ExecuteTime": {
     "end_time": "2018-12-09T00:07:58.121270Z",
     "start_time": "2018-12-09T00:07:58.080498Z"
    }
   },
   "outputs": [],
   "source": [
    "data_Breast_Cancer = {\n",
    "    'input': {\n",
    "        'features': bc(),\n",
    "        'labels': ['CRIME'],\n",
    "        'ignore': ['OneValueEliminate','CHAS','RM', 'RAD','MEDV','Positive'],\n",
    "        'SD_LIMIT': .05\n",
    "    }\n",
    "}"
   ]
  },
  {
   "cell_type": "code",
   "execution_count": 14,
   "metadata": {
    "ExecuteTime": {
     "end_time": "2018-12-09T00:07:58.163177Z",
     "start_time": "2018-12-09T00:07:58.123397Z"
    },
    "hide_input": true
   },
   "outputs": [],
   "source": [
    "def df_City():\n",
    "    City = pd.DataFrame(boston.data, columns = boston.feature_names )\n",
    "    City = City[['CRIM', 'INDUS','NOX','TAX','B']]\n",
    "#    City['MEDV'] = boston.target\n",
    "    return(City)"
   ]
  },
  {
   "cell_type": "markdown",
   "metadata": {},
   "source": [
    "##  df_type EliminateUnviableFeatures"
   ]
  },
  {
   "cell_type": "code",
   "execution_count": 15,
   "metadata": {
    "ExecuteTime": {
     "end_time": "2018-12-09T00:07:58.214854Z",
     "start_time": "2018-12-09T00:07:58.165410Z"
    }
   },
   "outputs": [
    {
     "data": {
      "text/plain": [
       "False"
      ]
     },
     "execution_count": 15,
     "metadata": {},
     "output_type": "execute_result"
    }
   ],
   "source": [
    "def aX():\n",
    "    return np.array([\n",
    "            [4, 3.7, 8.9],\n",
    "            [3, 3.2, 0.5],\n",
    "            [1, 0.9, 8.9],\n",
    "            [5, 5.0, 2.4],\n",
    "            [5, 7.8, 2.4],\n",
    "            [0, 7.0, 0.2],\n",
    "            [8, 1.9, 7.8],\n",
    "            [3, 9.2, 2.8],\n",
    "            [5, 5.7, 4.5],\n",
    "            [6, 5.3, 3.2]\n",
    "        ])\n",
    "\n",
    "def cn():\n",
    "    return (['integer_0','float_1','float_2'])\n",
    "def df_type():\n",
    "    return pd.DataFrame(aX(),columns=[cn()])\n",
    "\n",
    "df_type().isna().any().any()"
   ]
  },
  {
   "cell_type": "code",
   "execution_count": 16,
   "metadata": {
    "ExecuteTime": {
     "end_time": "2018-12-09T00:07:58.276512Z",
     "start_time": "2018-12-09T00:07:58.217480Z"
    }
   },
   "outputs": [
    {
     "data": {
      "text/plain": [
       "integer_0    0.316228\n",
       "float_1      0.349100\n",
       "float_2      0.376073\n",
       "dtype: float64"
      ]
     },
     "execution_count": 16,
     "metadata": {},
     "output_type": "execute_result"
    }
   ],
   "source": [
    "def df_type_low_V():\n",
    "    return ((pd.DataFrame(aX(),columns=[cn()]))\\\n",
    "           .replace(to_replace=0, value=0)\\\n",
    "           .replace(to_replace=4, value=1)\n",
    "           .replace(to_replace=3, value=1)\\\n",
    "           .replace(to_replace=5, value=1)\\\n",
    "           .replace(to_replace=8, value=1)\\\n",
    "           .replace(to_replace=6, value=1))\n",
    "df_type_low_V().std()/(df_type_low_V().max() - df_type_low_V().min())\n",
    "#df_type_low_V().std()"
   ]
  },
  {
   "cell_type": "markdown",
   "metadata": {},
   "source": [
    "## STEPPY CLASS"
   ]
  },
  {
   "cell_type": "markdown",
   "metadata": {},
   "source": [
    "### step class for"
   ]
  },
  {
   "cell_type": "code",
   "execution_count": 17,
   "metadata": {
    "ExecuteTime": {
     "end_time": "2018-12-09T00:07:58.325221Z",
     "start_time": "2018-12-09T00:07:58.278904Z"
    }
   },
   "outputs": [
    {
     "name": "stdout",
     "output_type": "stream",
     "text": [
      "2018-12-08 19:07:58 steppy >>> initializing Step cleanFeatures...\n",
      "2018-12-08 19:07:58 steppy >>> initializing experiment directories under ../input/models/tmp\n",
      "2018-12-08 19:07:58 steppy >>> done: initializing experiment directories\n",
      "2018-12-08 19:07:58 steppy >>> Step cleanFeatures initialized\n"
     ]
    }
   ],
   "source": [
    "Elim_step = Step(name='cleanFeatures',\n",
    "               transformer=EliminateUnviableFeatures(),\n",
    "               input_data=['input'],\n",
    "               adapter=Adapter({\n",
    "                   'X': E('input','features')\n",
    "               }),\n",
    "               experiment_directory=EXPERIMENT_DIR,\n",
    "               is_trainable=False,\n",
    "               force_fitting=False)"
   ]
  },
  {
   "cell_type": "markdown",
   "metadata": {},
   "source": [
    "### elim_step city"
   ]
  },
  {
   "cell_type": "code",
   "execution_count": 18,
   "metadata": {
    "ExecuteTime": {
     "end_time": "2018-12-09T00:07:58.385853Z",
     "start_time": "2018-12-09T00:07:58.327553Z"
    }
   },
   "outputs": [
    {
     "name": "stdout",
     "output_type": "stream",
     "text": [
      "2018-12-08 19:07:58 steppy >>> Step cleanFeatures, adapting inputs...\n",
      "2018-12-08 19:07:58 steppy >>> Step cleanFeatures, transforming...\n"
     ]
    },
    {
     "data": {
      "text/plain": [
       "Index(['CRIM', 'ZN', 'INDUS', 'CHAS', 'NOX', 'RM', 'AGE', 'DIS', 'RAD', 'TAX',\n",
       "       'PTRATIO', 'B', 'LSTAT', 'MEDV'],\n",
       "      dtype='object')"
      ]
     },
     "execution_count": 18,
     "metadata": {},
     "output_type": "execute_result"
    }
   ],
   "source": [
    "Elim_step.transform(data_City)['X'].columns"
   ]
  },
  {
   "cell_type": "markdown",
   "metadata": {},
   "source": [
    "### elim_step  ignore"
   ]
  },
  {
   "cell_type": "code",
   "execution_count": 19,
   "metadata": {
    "ExecuteTime": {
     "end_time": "2018-12-09T00:07:58.437909Z",
     "start_time": "2018-12-09T00:07:58.388302Z"
    }
   },
   "outputs": [
    {
     "name": "stdout",
     "output_type": "stream",
     "text": [
      "2018-12-08 19:07:58 steppy >>> initializing Step cleanFeatures...\n",
      "2018-12-08 19:07:58 steppy >>> initializing experiment directories under ../input/models/tmp\n",
      "2018-12-08 19:07:58 steppy >>> done: initializing experiment directories\n",
      "2018-12-08 19:07:58 steppy >>> Step cleanFeatures initialized\n"
     ]
    }
   ],
   "source": [
    "Elim_step = Step(name='cleanFeatures',\n",
    "               transformer=EliminateUnviableFeatures(),\n",
    "               input_data=['input'],\n",
    "               adapter=Adapter({\n",
    "                   'X': E('input','features'),\n",
    "                   'ignore': E('input','ignore')\n",
    "               }),\n",
    "               experiment_directory=EXPERIMENT_DIR,\n",
    "               is_trainable=False,\n",
    "               force_fitting=False)"
   ]
  },
  {
   "cell_type": "markdown",
   "metadata": {},
   "source": [
    "### city"
   ]
  },
  {
   "cell_type": "markdown",
   "metadata": {},
   "source": [
    "Notice how ignore was included by specifying adapter,but we dont see any change during trasform. lets make more obvious"
   ]
  },
  {
   "cell_type": "code",
   "execution_count": 20,
   "metadata": {
    "ExecuteTime": {
     "end_time": "2018-12-09T00:07:58.494939Z",
     "start_time": "2018-12-09T00:07:58.441096Z"
    }
   },
   "outputs": [
    {
     "name": "stdout",
     "output_type": "stream",
     "text": [
      "2018-12-08 19:07:58 steppy >>> Step cleanFeatures, adapting inputs...\n",
      "2018-12-08 19:07:58 steppy >>> Step cleanFeatures, transforming...\n"
     ]
    },
    {
     "data": {
      "text/plain": [
       "Index(['CRIM', 'ZN', 'INDUS', 'CHAS', 'NOX', 'RM', 'AGE', 'DIS', 'RAD', 'TAX',\n",
       "       'PTRATIO', 'B', 'LSTAT', 'MEDV'],\n",
       "      dtype='object')"
      ]
     },
     "execution_count": 20,
     "metadata": {},
     "output_type": "execute_result"
    }
   ],
   "source": [
    "Elim_step.transform(data_City)['X'].columns"
   ]
  },
  {
   "cell_type": "markdown",
   "metadata": {},
   "source": [
    "### data_Breast_Cancer"
   ]
  },
  {
   "cell_type": "code",
   "execution_count": 21,
   "metadata": {
    "ExecuteTime": {
     "end_time": "2018-12-09T00:07:58.569910Z",
     "start_time": "2018-12-09T00:07:58.497334Z"
    }
   },
   "outputs": [
    {
     "name": "stdout",
     "output_type": "stream",
     "text": [
      "2018-12-08 19:07:58 steppy >>> Step cleanFeatures, adapting inputs...\n",
      "2018-12-08 19:07:58 steppy >>> Step cleanFeatures, transforming...\n"
     ]
    },
    {
     "data": {
      "text/plain": [
       "Index(['mean radius', 'mean texture', 'mean perimeter', 'mean area',\n",
       "       'mean smoothness', 'mean compactness', 'mean concavity',\n",
       "       'mean concave points', 'mean symmetry', 'mean fractal dimension',\n",
       "       'radius error', 'texture error', 'perimeter error', 'area error',\n",
       "       'smoothness error', 'compactness error', 'concavity error',\n",
       "       'concave points error', 'symmetry error', 'fractal dimension error',\n",
       "       'worst radius', 'worst texture', 'worst perimeter', 'worst area',\n",
       "       'worst smoothness', 'worst compactness', 'worst concavity',\n",
       "       'worst concave points', 'worst symmetry', 'worst fractal dimension',\n",
       "       'Negative', 'OneValueEliminate'],\n",
       "      dtype='object')"
      ]
     },
     "execution_count": 21,
     "metadata": {},
     "output_type": "execute_result"
    }
   ],
   "source": [
    "Elim_step.transform(data_Breast_Cancer)['X'].columns"
   ]
  },
  {
   "cell_type": "markdown",
   "metadata": {},
   "source": [
    "### Breat_Cancer SD_LIMIT"
   ]
  },
  {
   "cell_type": "code",
   "execution_count": 22,
   "metadata": {
    "ExecuteTime": {
     "end_time": "2018-12-09T00:07:58.622700Z",
     "start_time": "2018-12-09T00:07:58.572375Z"
    }
   },
   "outputs": [
    {
     "name": "stdout",
     "output_type": "stream",
     "text": [
      "2018-12-08 19:07:58 steppy >>> initializing Step cleanFeatures...\n",
      "2018-12-08 19:07:58 steppy >>> initializing experiment directories under ../input/models/tmp\n",
      "2018-12-08 19:07:58 steppy >>> done: initializing experiment directories\n",
      "2018-12-08 19:07:58 steppy >>> Step cleanFeatures initialized\n"
     ]
    }
   ],
   "source": [
    "Elim_step = Step(name='cleanFeatures',\n",
    "               transformer=EliminateUnviableFeatures(),\n",
    "               input_data=['input'],\n",
    "               adapter=Adapter({\n",
    "                   'X': E('input','features'),\n",
    "                   'ignore': E('input','ignore'),\n",
    "                   'SD_LIMIT':  E('input','SD_LIMIT')\n",
    "        \n",
    "               }),\n",
    "               experiment_directory=EXPERIMENT_DIR,\n",
    "               is_trainable=False,\n",
    "               force_fitting=False)"
   ]
  },
  {
   "cell_type": "code",
   "execution_count": 23,
   "metadata": {
    "ExecuteTime": {
     "end_time": "2018-12-09T00:07:58.691794Z",
     "start_time": "2018-12-09T00:07:58.625547Z"
    }
   },
   "outputs": [
    {
     "name": "stdout",
     "output_type": "stream",
     "text": [
      "2018-12-08 19:07:58 steppy >>> Step cleanFeatures, adapting inputs...\n",
      "2018-12-08 19:07:58 steppy >>> Step cleanFeatures, transforming...\n"
     ]
    },
    {
     "data": {
      "text/plain": [
       "Index(['mean radius', 'mean texture', 'mean perimeter', 'mean area',\n",
       "       'mean smoothness', 'mean compactness', 'mean concavity',\n",
       "       'mean concave points', 'mean symmetry', 'mean fractal dimension',\n",
       "       'radius error', 'texture error', 'perimeter error', 'area error',\n",
       "       'smoothness error', 'compactness error', 'concavity error',\n",
       "       'concave points error', 'symmetry error', 'fractal dimension error',\n",
       "       'worst radius', 'worst texture', 'worst perimeter', 'worst area',\n",
       "       'worst smoothness', 'worst compactness', 'worst concavity',\n",
       "       'worst concave points', 'worst symmetry', 'worst fractal dimension',\n",
       "       'Negative', 'OneValueEliminate'],\n",
       "      dtype='object')"
      ]
     },
     "execution_count": 23,
     "metadata": {},
     "output_type": "execute_result"
    }
   ],
   "source": [
    "Elim_step.transform(data_Breast_Cancer)['X'].columns"
   ]
  }
 ],
 "metadata": {
  "hide_input": false,
  "kernelspec": {
   "display_name": "Python 3",
   "language": "python",
   "name": "python3"
  },
  "language_info": {
   "codemirror_mode": {
    "name": "ipython",
    "version": 3
   },
   "file_extension": ".py",
   "mimetype": "text/x-python",
   "name": "python",
   "nbconvert_exporter": "python",
   "pygments_lexer": "ipython3",
   "version": "3.7.6"
  },
  "toc": {
   "base_numbering": 1,
   "nav_menu": {
    "height": "103px",
    "width": "252px"
   },
   "number_sections": true,
   "sideBar": true,
   "skip_h1_title": false,
   "title_cell": "Table of Contents",
   "title_sidebar": "Contents",
   "toc_cell": false,
   "toc_position": {},
   "toc_section_display": "block",
   "toc_window_display": true
  }
 },
 "nbformat": 4,
 "nbformat_minor": 2
}
