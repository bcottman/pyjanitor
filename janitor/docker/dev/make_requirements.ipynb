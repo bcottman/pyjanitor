{
 "cells": [
  {
   "cell_type": "code",
   "execution_count": 10,
   "metadata": {
    "ExecuteTime": {
     "end_time": "2021-03-16T18:27:49.790250Z",
     "start_time": "2021-03-16T18:27:49.091638Z"
    },
    "id": "MgEw3hcuHcrH"
   },
   "outputs": [
    {
     "name": "stdout",
     "output_type": "stream",
     "text": [
      "###### Requirements with temporary Version Specifiers ######\n",
      "numpy==1.20.1\n",
      "matplotlib==3.3.4\n",
      "scikit-learn==0.24.1\n",
      "Keras==2.4.3\n",
      "pandas==1.2.3\n",
      "plotly==4.14.3\n",
      "imbalanced-learn==0.8.0\n",
      "pymodm==0.4.3\n",
      "scipy==1.6.1\n",
      "statsmodels==0.12.2\n",
      "prettytable==2.1.0\n",
      "seaborn==0.11.1\n",
      "joblib==1.0.1\n",
      "dask==2.30.0\n",
      "distributed==2.30.1\n",
      "scikit-optimize==0.8.1\n",
      "pytest==6.2.2\n",
      "xlrd==2.0.1\n",
      "## The following requirements were added by pip freeze:\n",
      "alembic==1.4.2\n",
      "argon2-cffi==20.1.0\n",
      "async-generator==1.10\n",
      "attrs==20.3.0\n",
      "backcall==0.1.0\n",
      "bleach @ file:///home/conda/feedstock_root/build_artifacts/bleach_1588608214987/work\n",
      "blinker==1.4\n",
      "boltons==20.2.1\n",
      "brotlipy==0.7.0\n",
      "cached-property==1.5.2\n",
      "certifi==2020.4.5.1\n",
      "certipy==0.1.3\n",
      "cffi==1.14.0\n",
      "chardet==3.0.4\n",
      "click==7.1.2\n",
      "cloudpickle==1.6.0\n",
      "conda==4.8.2\n",
      "conda-package-handling==1.6.0\n",
      "contextlib2==0.6.0.post1\n",
      "cryptography==2.9.2\n",
      "cycler==0.10.0\n",
      "debtcollector==2.2.0\n",
      "decorator==4.4.2\n",
      "defusedxml==0.6.0\n",
      "dit==1.2.3\n",
      "entrypoints==0.3\n",
      "h5py==3.2.1\n",
      "HeapDict==1.0.1\n",
      "idna==2.9\n",
      "importlib-metadata==3.7.0\n",
      "iniconfig==1.1.1\n",
      "ipykernel @ file:///home/conda/feedstock_root/build_artifacts/ipykernel_1590020200501/work/dist/ipykernel-5.3.0-py3-none-any.whl\n",
      "ipython @ file:///home/conda/feedstock_root/build_artifacts/ipython_1588362967322/work\n",
      "ipython-genutils==0.2.0\n",
      "jedi==0.17.0\n",
      "Jinja2==2.11.2\n",
      "json5==0.9.0\n",
      "jsonschema==3.2.0\n",
      "jupyter-client==6.1.3\n",
      "jupyter-contrib-core==0.3.3\n",
      "jupyter-contrib-nbextensions==0.5.1\n",
      "jupyter-core==4.6.3\n",
      "jupyter-highlight-selected-word==0.2.0\n",
      "jupyter-latex-envs==1.4.6\n",
      "jupyter-nbextensions-configurator==0.4.1\n",
      "jupyter-telemetry==0.0.5\n",
      "jupyterhub==1.1.0\n",
      "jupyterlab==2.1.3\n",
      "jupyterlab-server @ file:///home/conda/feedstock_root/build_artifacts/jupyterlab_server_1590229434073/work\n",
      "jupyterthemes==0.20.0\n",
      "kiwisolver==1.3.1\n",
      "lesscpy==0.14.0\n",
      "lxml==4.6.2\n",
      "Mako==1.1.0\n",
      "MarkupSafe==1.1.1\n",
      "mistune==0.8.4\n",
      "msgpack==1.0.2\n",
      "nbconvert==5.6.1\n",
      "nbformat==5.0.6\n",
      "networkx==2.5\n",
      "notebook==6.2.0\n",
      "oauthlib==3.0.1\n",
      "packaging==20.9\n",
      "pamela==1.0.0\n",
      "pandocfilters==1.4.2\n",
      "parso==0.7.0\n",
      "patsy==0.5.1\n",
      "pbr==5.5.1\n",
      "pexpect==4.8.0\n",
      "photonai==2.1.0\n",
      "pickleshare==0.7.5\n",
      "Pillow==8.1.1\n",
      "pluggy==0.13.1\n",
      "ply==3.11\n",
      "prometheus-client @ file:///home/conda/feedstock_root/build_artifacts/prometheus_client_1590412252446/work\n",
      "prompt-toolkit==3.0.5\n",
      "psutil==5.8.0\n",
      "ptyprocess==0.6.0\n",
      "py==1.10.0\n",
      "pyaml==20.4.0\n",
      "pycosat==0.6.3\n",
      "pycparser==2.20\n",
      "pycurl==7.43.0.5\n",
      "Pygments==2.6.1\n",
      "PyJWT==1.7.1\n",
      "pymongo==3.11.3\n",
      "pyOpenSSL==19.1.0\n",
      "pyparsing==2.4.7\n",
      "pyrsistent==0.16.0\n",
      "PySocks==1.7.1\n",
      "python-dateutil==2.8.1\n",
      "python-editor==1.0.4\n",
      "python-json-logger==0.1.11\n",
      "pytz==2021.1\n",
      "PyYAML==5.4.1\n",
      "pyzmq==19.0.1\n",
      "requests==2.23.0\n",
      "retrying==1.3.3\n",
      "ruamel-yaml==0.15.80\n",
      "ruamel.yaml.clib==0.2.0\n",
      "Send2Trash==1.5.0\n",
      "six==1.15.0\n",
      "sortedcontainers==2.3.0\n",
      "SQLAlchemy @ file:///home/conda/feedstock_root/build_artifacts/sqlalchemy_1589421717839/work\n",
      "tblib==1.7.0\n",
      "terminado==0.8.3\n",
      "testpath==0.4.4\n",
      "threadpoolctl==2.1.0\n",
      "toml==0.10.2\n",
      "toolz==0.11.1\n",
      "tornado==6.1\n",
      "tqdm==4.45.0\n",
      "traitlets==4.3.3\n",
      "typing-extensions==3.7.4.3\n",
      "urllib3==1.25.9\n",
      "wcwidth==0.2.5\n",
      "webencodings==0.5.1\n",
      "wrapt==1.12.1\n",
      "zict==2.0.0\n",
      "zipp==3.4.1\n"
     ]
    }
   ],
   "source": [
    "!python -m pip freeze -r ../../requirements.txt"
   ]
  },
  {
   "cell_type": "code",
   "execution_count": 6,
   "metadata": {
    "ExecuteTime": {
     "end_time": "2021-03-16T18:25:35.837553Z",
     "start_time": "2021-03-16T18:25:35.625418Z"
    },
    "id": "I1ephcL6ny5-"
   },
   "outputs": [
    {
     "name": "stdout",
     "output_type": "stream",
     "text": [
      "/docker/photonai/photonai/docker/dev\r\n"
     ]
    }
   ],
   "source": []
  },
  {
   "cell_type": "code",
   "execution_count": 71,
   "metadata": {
    "id": "hBkIKA0YZOuO"
   },
   "outputs": [],
   "source": []
  }
 ],
 "metadata": {
  "accelerator": "GPU",
  "colab": {
   "collapsed_sections": [
    "nJm3IzA_ny2e",
    "mjtR5-lmny2r",
    "VvgMT4dlG75z",
    "DOEjkpLtH8IN"
   ],
   "name": "text_pre_processing_colab-gpu.ipynb",
   "provenance": [],
   "toc_visible": true
  },
  "kernelspec": {
   "display_name": "Python 3",
   "language": "python",
   "name": "python3"
  },
  "language_info": {
   "codemirror_mode": {
    "name": "ipython",
    "version": 3
   },
   "file_extension": ".py",
   "mimetype": "text/x-python",
   "name": "python",
   "nbconvert_exporter": "python",
   "pygments_lexer": "ipython3",
   "version": "3.7.6"
  },
  "toc": {
   "base_numbering": 1,
   "nav_menu": {},
   "number_sections": true,
   "sideBar": true,
   "skip_h1_title": false,
   "title_cell": "Table of Contents",
   "title_sidebar": "Contents",
   "toc_cell": false,
   "toc_position": {
    "height": "calc(100% - 180px)",
    "left": "10px",
    "top": "150px",
    "width": "218px"
   },
   "toc_section_display": true,
   "toc_window_display": false
  }
 },
 "nbformat": 4,
 "nbformat_minor": 1
}
